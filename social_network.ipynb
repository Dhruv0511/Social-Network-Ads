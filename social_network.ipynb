{
 "cells": [
  {
   "cell_type": "code",
   "execution_count": 1,
   "id": "69fb7884",
   "metadata": {},
   "outputs": [],
   "source": [
    "import numpy as np\n",
    "import pandas as pd\n",
    "import matplotlib.pyplot as plt\n",
    "import seaborn as sns\n",
    "\n",
    "import warnings\n",
    "warnings.filterwarnings(\"ignore\")"
   ]
  },
  {
   "cell_type": "code",
   "execution_count": 2,
   "id": "a66c707d",
   "metadata": {},
   "outputs": [],
   "source": [
    "df=pd.read_csv(\"Social_Network_Ads.csv\")"
   ]
  },
  {
   "cell_type": "code",
   "execution_count": 3,
   "id": "7229059b",
   "metadata": {},
   "outputs": [
    {
     "data": {
      "text/html": [
       "<div>\n",
       "<style scoped>\n",
       "    .dataframe tbody tr th:only-of-type {\n",
       "        vertical-align: middle;\n",
       "    }\n",
       "\n",
       "    .dataframe tbody tr th {\n",
       "        vertical-align: top;\n",
       "    }\n",
       "\n",
       "    .dataframe thead th {\n",
       "        text-align: right;\n",
       "    }\n",
       "</style>\n",
       "<table border=\"1\" class=\"dataframe\">\n",
       "  <thead>\n",
       "    <tr style=\"text-align: right;\">\n",
       "      <th></th>\n",
       "      <th>User ID</th>\n",
       "      <th>Gender</th>\n",
       "      <th>Age</th>\n",
       "      <th>EstimatedSalary</th>\n",
       "      <th>Purchased</th>\n",
       "    </tr>\n",
       "  </thead>\n",
       "  <tbody>\n",
       "    <tr>\n",
       "      <th>0</th>\n",
       "      <td>15624510</td>\n",
       "      <td>Male</td>\n",
       "      <td>19</td>\n",
       "      <td>19000</td>\n",
       "      <td>0</td>\n",
       "    </tr>\n",
       "    <tr>\n",
       "      <th>1</th>\n",
       "      <td>15810944</td>\n",
       "      <td>Male</td>\n",
       "      <td>35</td>\n",
       "      <td>20000</td>\n",
       "      <td>0</td>\n",
       "    </tr>\n",
       "    <tr>\n",
       "      <th>2</th>\n",
       "      <td>15668575</td>\n",
       "      <td>Female</td>\n",
       "      <td>26</td>\n",
       "      <td>43000</td>\n",
       "      <td>0</td>\n",
       "    </tr>\n",
       "    <tr>\n",
       "      <th>3</th>\n",
       "      <td>15603246</td>\n",
       "      <td>Female</td>\n",
       "      <td>27</td>\n",
       "      <td>57000</td>\n",
       "      <td>0</td>\n",
       "    </tr>\n",
       "    <tr>\n",
       "      <th>4</th>\n",
       "      <td>15804002</td>\n",
       "      <td>Male</td>\n",
       "      <td>19</td>\n",
       "      <td>76000</td>\n",
       "      <td>0</td>\n",
       "    </tr>\n",
       "  </tbody>\n",
       "</table>\n",
       "</div>"
      ],
      "text/plain": [
       "    User ID  Gender  Age  EstimatedSalary  Purchased\n",
       "0  15624510    Male   19            19000          0\n",
       "1  15810944    Male   35            20000          0\n",
       "2  15668575  Female   26            43000          0\n",
       "3  15603246  Female   27            57000          0\n",
       "4  15804002    Male   19            76000          0"
      ]
     },
     "execution_count": 3,
     "metadata": {},
     "output_type": "execute_result"
    }
   ],
   "source": [
    "df.head()"
   ]
  },
  {
   "cell_type": "code",
   "execution_count": 4,
   "id": "b366262a",
   "metadata": {},
   "outputs": [],
   "source": [
    "df.drop(\"User ID\",axis=1,inplace=True)"
   ]
  },
  {
   "cell_type": "code",
   "execution_count": 5,
   "id": "20bccb7c",
   "metadata": {},
   "outputs": [
    {
     "data": {
      "text/html": [
       "<div>\n",
       "<style scoped>\n",
       "    .dataframe tbody tr th:only-of-type {\n",
       "        vertical-align: middle;\n",
       "    }\n",
       "\n",
       "    .dataframe tbody tr th {\n",
       "        vertical-align: top;\n",
       "    }\n",
       "\n",
       "    .dataframe thead th {\n",
       "        text-align: right;\n",
       "    }\n",
       "</style>\n",
       "<table border=\"1\" class=\"dataframe\">\n",
       "  <thead>\n",
       "    <tr style=\"text-align: right;\">\n",
       "      <th></th>\n",
       "      <th>Gender</th>\n",
       "      <th>Age</th>\n",
       "      <th>EstimatedSalary</th>\n",
       "      <th>Purchased</th>\n",
       "    </tr>\n",
       "  </thead>\n",
       "  <tbody>\n",
       "    <tr>\n",
       "      <th>0</th>\n",
       "      <td>Male</td>\n",
       "      <td>19</td>\n",
       "      <td>19000</td>\n",
       "      <td>0</td>\n",
       "    </tr>\n",
       "    <tr>\n",
       "      <th>1</th>\n",
       "      <td>Male</td>\n",
       "      <td>35</td>\n",
       "      <td>20000</td>\n",
       "      <td>0</td>\n",
       "    </tr>\n",
       "    <tr>\n",
       "      <th>2</th>\n",
       "      <td>Female</td>\n",
       "      <td>26</td>\n",
       "      <td>43000</td>\n",
       "      <td>0</td>\n",
       "    </tr>\n",
       "    <tr>\n",
       "      <th>3</th>\n",
       "      <td>Female</td>\n",
       "      <td>27</td>\n",
       "      <td>57000</td>\n",
       "      <td>0</td>\n",
       "    </tr>\n",
       "    <tr>\n",
       "      <th>4</th>\n",
       "      <td>Male</td>\n",
       "      <td>19</td>\n",
       "      <td>76000</td>\n",
       "      <td>0</td>\n",
       "    </tr>\n",
       "  </tbody>\n",
       "</table>\n",
       "</div>"
      ],
      "text/plain": [
       "   Gender  Age  EstimatedSalary  Purchased\n",
       "0    Male   19            19000          0\n",
       "1    Male   35            20000          0\n",
       "2  Female   26            43000          0\n",
       "3  Female   27            57000          0\n",
       "4    Male   19            76000          0"
      ]
     },
     "execution_count": 5,
     "metadata": {},
     "output_type": "execute_result"
    }
   ],
   "source": [
    "df.head()"
   ]
  },
  {
   "cell_type": "code",
   "execution_count": 6,
   "id": "f11f8029",
   "metadata": {},
   "outputs": [
    {
     "data": {
      "text/html": [
       "<div>\n",
       "<style scoped>\n",
       "    .dataframe tbody tr th:only-of-type {\n",
       "        vertical-align: middle;\n",
       "    }\n",
       "\n",
       "    .dataframe tbody tr th {\n",
       "        vertical-align: top;\n",
       "    }\n",
       "\n",
       "    .dataframe thead th {\n",
       "        text-align: right;\n",
       "    }\n",
       "</style>\n",
       "<table border=\"1\" class=\"dataframe\">\n",
       "  <thead>\n",
       "    <tr style=\"text-align: right;\">\n",
       "      <th></th>\n",
       "      <th>Age</th>\n",
       "      <th>EstimatedSalary</th>\n",
       "      <th>Purchased</th>\n",
       "    </tr>\n",
       "  </thead>\n",
       "  <tbody>\n",
       "    <tr>\n",
       "      <th>count</th>\n",
       "      <td>400.000000</td>\n",
       "      <td>400.000000</td>\n",
       "      <td>400.000000</td>\n",
       "    </tr>\n",
       "    <tr>\n",
       "      <th>mean</th>\n",
       "      <td>37.655000</td>\n",
       "      <td>69742.500000</td>\n",
       "      <td>0.357500</td>\n",
       "    </tr>\n",
       "    <tr>\n",
       "      <th>std</th>\n",
       "      <td>10.482877</td>\n",
       "      <td>34096.960282</td>\n",
       "      <td>0.479864</td>\n",
       "    </tr>\n",
       "    <tr>\n",
       "      <th>min</th>\n",
       "      <td>18.000000</td>\n",
       "      <td>15000.000000</td>\n",
       "      <td>0.000000</td>\n",
       "    </tr>\n",
       "    <tr>\n",
       "      <th>25%</th>\n",
       "      <td>29.750000</td>\n",
       "      <td>43000.000000</td>\n",
       "      <td>0.000000</td>\n",
       "    </tr>\n",
       "    <tr>\n",
       "      <th>50%</th>\n",
       "      <td>37.000000</td>\n",
       "      <td>70000.000000</td>\n",
       "      <td>0.000000</td>\n",
       "    </tr>\n",
       "    <tr>\n",
       "      <th>75%</th>\n",
       "      <td>46.000000</td>\n",
       "      <td>88000.000000</td>\n",
       "      <td>1.000000</td>\n",
       "    </tr>\n",
       "    <tr>\n",
       "      <th>max</th>\n",
       "      <td>60.000000</td>\n",
       "      <td>150000.000000</td>\n",
       "      <td>1.000000</td>\n",
       "    </tr>\n",
       "  </tbody>\n",
       "</table>\n",
       "</div>"
      ],
      "text/plain": [
       "              Age  EstimatedSalary   Purchased\n",
       "count  400.000000       400.000000  400.000000\n",
       "mean    37.655000     69742.500000    0.357500\n",
       "std     10.482877     34096.960282    0.479864\n",
       "min     18.000000     15000.000000    0.000000\n",
       "25%     29.750000     43000.000000    0.000000\n",
       "50%     37.000000     70000.000000    0.000000\n",
       "75%     46.000000     88000.000000    1.000000\n",
       "max     60.000000    150000.000000    1.000000"
      ]
     },
     "execution_count": 6,
     "metadata": {},
     "output_type": "execute_result"
    }
   ],
   "source": [
    "df.describe()"
   ]
  },
  {
   "cell_type": "code",
   "execution_count": 7,
   "id": "1d3cef36",
   "metadata": {},
   "outputs": [
    {
     "data": {
      "text/html": [
       "<div>\n",
       "<style scoped>\n",
       "    .dataframe tbody tr th:only-of-type {\n",
       "        vertical-align: middle;\n",
       "    }\n",
       "\n",
       "    .dataframe tbody tr th {\n",
       "        vertical-align: top;\n",
       "    }\n",
       "\n",
       "    .dataframe thead th {\n",
       "        text-align: right;\n",
       "    }\n",
       "</style>\n",
       "<table border=\"1\" class=\"dataframe\">\n",
       "  <thead>\n",
       "    <tr style=\"text-align: right;\">\n",
       "      <th></th>\n",
       "      <th>Gender</th>\n",
       "    </tr>\n",
       "  </thead>\n",
       "  <tbody>\n",
       "    <tr>\n",
       "      <th>count</th>\n",
       "      <td>400</td>\n",
       "    </tr>\n",
       "    <tr>\n",
       "      <th>unique</th>\n",
       "      <td>2</td>\n",
       "    </tr>\n",
       "    <tr>\n",
       "      <th>top</th>\n",
       "      <td>Female</td>\n",
       "    </tr>\n",
       "    <tr>\n",
       "      <th>freq</th>\n",
       "      <td>204</td>\n",
       "    </tr>\n",
       "  </tbody>\n",
       "</table>\n",
       "</div>"
      ],
      "text/plain": [
       "        Gender\n",
       "count      400\n",
       "unique       2\n",
       "top     Female\n",
       "freq       204"
      ]
     },
     "execution_count": 7,
     "metadata": {},
     "output_type": "execute_result"
    }
   ],
   "source": [
    "df.describe(include=[\"object\"])"
   ]
  },
  {
   "cell_type": "code",
   "execution_count": 8,
   "id": "51072b49",
   "metadata": {},
   "outputs": [],
   "source": [
    "from sklearn.preprocessing import OrdinalEncoder\n",
    "oe=OrdinalEncoder()\n",
    "df[\"Gender\"]=oe.fit_transform(df[[\"Gender\"]])"
   ]
  },
  {
   "cell_type": "code",
   "execution_count": 9,
   "id": "3d8d6ca1",
   "metadata": {},
   "outputs": [
    {
     "data": {
      "text/html": [
       "<div>\n",
       "<style scoped>\n",
       "    .dataframe tbody tr th:only-of-type {\n",
       "        vertical-align: middle;\n",
       "    }\n",
       "\n",
       "    .dataframe tbody tr th {\n",
       "        vertical-align: top;\n",
       "    }\n",
       "\n",
       "    .dataframe thead th {\n",
       "        text-align: right;\n",
       "    }\n",
       "</style>\n",
       "<table border=\"1\" class=\"dataframe\">\n",
       "  <thead>\n",
       "    <tr style=\"text-align: right;\">\n",
       "      <th></th>\n",
       "      <th>Gender</th>\n",
       "      <th>Age</th>\n",
       "      <th>EstimatedSalary</th>\n",
       "      <th>Purchased</th>\n",
       "    </tr>\n",
       "  </thead>\n",
       "  <tbody>\n",
       "    <tr>\n",
       "      <th>0</th>\n",
       "      <td>1.0</td>\n",
       "      <td>19</td>\n",
       "      <td>19000</td>\n",
       "      <td>0</td>\n",
       "    </tr>\n",
       "    <tr>\n",
       "      <th>1</th>\n",
       "      <td>1.0</td>\n",
       "      <td>35</td>\n",
       "      <td>20000</td>\n",
       "      <td>0</td>\n",
       "    </tr>\n",
       "    <tr>\n",
       "      <th>2</th>\n",
       "      <td>0.0</td>\n",
       "      <td>26</td>\n",
       "      <td>43000</td>\n",
       "      <td>0</td>\n",
       "    </tr>\n",
       "    <tr>\n",
       "      <th>3</th>\n",
       "      <td>0.0</td>\n",
       "      <td>27</td>\n",
       "      <td>57000</td>\n",
       "      <td>0</td>\n",
       "    </tr>\n",
       "    <tr>\n",
       "      <th>4</th>\n",
       "      <td>1.0</td>\n",
       "      <td>19</td>\n",
       "      <td>76000</td>\n",
       "      <td>0</td>\n",
       "    </tr>\n",
       "  </tbody>\n",
       "</table>\n",
       "</div>"
      ],
      "text/plain": [
       "   Gender  Age  EstimatedSalary  Purchased\n",
       "0     1.0   19            19000          0\n",
       "1     1.0   35            20000          0\n",
       "2     0.0   26            43000          0\n",
       "3     0.0   27            57000          0\n",
       "4     1.0   19            76000          0"
      ]
     },
     "execution_count": 9,
     "metadata": {},
     "output_type": "execute_result"
    }
   ],
   "source": [
    "df.head()"
   ]
  },
  {
   "cell_type": "code",
   "execution_count": 10,
   "id": "04f558dc",
   "metadata": {},
   "outputs": [
    {
     "name": "stdout",
     "output_type": "stream",
     "text": [
      "<class 'pandas.core.frame.DataFrame'>\n",
      "RangeIndex: 400 entries, 0 to 399\n",
      "Data columns (total 4 columns):\n",
      " #   Column           Non-Null Count  Dtype  \n",
      "---  ------           --------------  -----  \n",
      " 0   Gender           400 non-null    float64\n",
      " 1   Age              400 non-null    int64  \n",
      " 2   EstimatedSalary  400 non-null    int64  \n",
      " 3   Purchased        400 non-null    int64  \n",
      "dtypes: float64(1), int64(3)\n",
      "memory usage: 12.6 KB\n"
     ]
    }
   ],
   "source": [
    "df.info()"
   ]
  },
  {
   "cell_type": "code",
   "execution_count": 11,
   "id": "3ccf36a1",
   "metadata": {},
   "outputs": [
    {
     "data": {
      "image/png": "[encoded data removed]",
      "text/plain": [
       "<Figure size 432x288 with 2 Axes>"
      ]
     },
     "metadata": {
      "needs_background": "light"
     },
     "output_type": "display_data"
    }
   ],
   "source": [
    "sns.heatmap(df.isnull(),yticklabels=False,cmap=\"viridis\")\n",
    "plt.show()"
   ]
  },
  {
   "cell_type": "code",
   "execution_count": 12,
   "id": "59f46370",
   "metadata": {},
   "outputs": [
    {
     "data": {
      "text/html": [
       "<div>\n",
       "<style scoped>\n",
       "    .dataframe tbody tr th:only-of-type {\n",
       "        vertical-align: middle;\n",
       "    }\n",
       "\n",
       "    .dataframe tbody tr th {\n",
       "        vertical-align: top;\n",
       "    }\n",
       "\n",
       "    .dataframe thead th {\n",
       "        text-align: right;\n",
       "    }\n",
       "</style>\n",
       "<table border=\"1\" class=\"dataframe\">\n",
       "  <thead>\n",
       "    <tr style=\"text-align: right;\">\n",
       "      <th></th>\n",
       "      <th>Gender</th>\n",
       "      <th>Age</th>\n",
       "      <th>EstimatedSalary</th>\n",
       "      <th>Purchased</th>\n",
       "    </tr>\n",
       "  </thead>\n",
       "  <tbody>\n",
       "    <tr>\n",
       "      <th>count</th>\n",
       "      <td>400.000000</td>\n",
       "      <td>400.000000</td>\n",
       "      <td>400.000000</td>\n",
       "      <td>400.000000</td>\n",
       "    </tr>\n",
       "    <tr>\n",
       "      <th>mean</th>\n",
       "      <td>0.490000</td>\n",
       "      <td>37.655000</td>\n",
       "      <td>69742.500000</td>\n",
       "      <td>0.357500</td>\n",
       "    </tr>\n",
       "    <tr>\n",
       "      <th>std</th>\n",
       "      <td>0.500526</td>\n",
       "      <td>10.482877</td>\n",
       "      <td>34096.960282</td>\n",
       "      <td>0.479864</td>\n",
       "    </tr>\n",
       "    <tr>\n",
       "      <th>min</th>\n",
       "      <td>0.000000</td>\n",
       "      <td>18.000000</td>\n",
       "      <td>15000.000000</td>\n",
       "      <td>0.000000</td>\n",
       "    </tr>\n",
       "    <tr>\n",
       "      <th>25%</th>\n",
       "      <td>0.000000</td>\n",
       "      <td>29.750000</td>\n",
       "      <td>43000.000000</td>\n",
       "      <td>0.000000</td>\n",
       "    </tr>\n",
       "    <tr>\n",
       "      <th>50%</th>\n",
       "      <td>0.000000</td>\n",
       "      <td>37.000000</td>\n",
       "      <td>70000.000000</td>\n",
       "      <td>0.000000</td>\n",
       "    </tr>\n",
       "    <tr>\n",
       "      <th>75%</th>\n",
       "      <td>1.000000</td>\n",
       "      <td>46.000000</td>\n",
       "      <td>88000.000000</td>\n",
       "      <td>1.000000</td>\n",
       "    </tr>\n",
       "    <tr>\n",
       "      <th>max</th>\n",
       "      <td>1.000000</td>\n",
       "      <td>60.000000</td>\n",
       "      <td>150000.000000</td>\n",
       "      <td>1.000000</td>\n",
       "    </tr>\n",
       "  </tbody>\n",
       "</table>\n",
       "</div>"
      ],
      "text/plain": [
       "           Gender         Age  EstimatedSalary   Purchased\n",
       "count  400.000000  400.000000       400.000000  400.000000\n",
       "mean     0.490000   37.655000     69742.500000    0.357500\n",
       "std      0.500526   10.482877     34096.960282    0.479864\n",
       "min      0.000000   18.000000     15000.000000    0.000000\n",
       "25%      0.000000   29.750000     43000.000000    0.000000\n",
       "50%      0.000000   37.000000     70000.000000    0.000000\n",
       "75%      1.000000   46.000000     88000.000000    1.000000\n",
       "max      1.000000   60.000000    150000.000000    1.000000"
      ]
     },
     "execution_count": 12,
     "metadata": {},
     "output_type": "execute_result"
    }
   ],
   "source": [
    "df.describe()"
   ]
  },
  {
   "cell_type": "code",
   "execution_count": 13,
   "id": "6c0b02b3",
   "metadata": {},
   "outputs": [],
   "source": [
    "from scipy.stats import skew"
   ]
  },
  {
   "cell_type": "code",
   "execution_count": 14,
   "id": "54b22969",
   "metadata": {},
   "outputs": [
    {
     "name": "stdout",
     "output_type": "stream",
     "text": [
      "Gender\n",
      "Skewness: 0.04000800240080024\n"
     ]
    },
    {
     "data": {
      "image/png": "[encoded data removed]",
      "text/plain": [
       "<Figure size 432x288 with 1 Axes>"
      ]
     },
     "metadata": {
      "needs_background": "light"
     },
     "output_type": "display_data"
    },
    {
     "name": "stdout",
     "output_type": "stream",
     "text": [
      "Age\n",
      "Skewness: 0.23046904236325927\n"
     ]
    },
    {
     "data": {
      "image/png": "[encoded data removed]",
      "text/plain": [
       "<Figure size 432x288 with 1 Axes>"
      ]
     },
     "metadata": {
      "needs_background": "light"
     },
     "output_type": "display_data"
    },
    {
     "name": "stdout",
     "output_type": "stream",
     "text": [
      "EstimatedSalary\n",
      "Skewness: 0.49316535320478544\n"
     ]
    },
    {
     "data": {
      "image/png": "[encoded data removed]",
      "text/plain": [
       "<Figure size 432x288 with 1 Axes>"
      ]
     },
     "metadata": {
      "needs_background": "light"
     },
     "output_type": "display_data"
    },
    {
     "name": "stdout",
     "output_type": "stream",
     "text": [
      "Purchased\n",
      "Skewness: 0.5946621147053448\n"
     ]
    },
    {
     "data": {
      "image/png": "[encoded data removed]",
      "text/plain": [
       "<Figure size 432x288 with 1 Axes>"
      ]
     },
     "metadata": {
      "needs_background": "light"
     },
     "output_type": "display_data"
    }
   ],
   "source": [
    "for col in df:\n",
    "    print(col)\n",
    "    print(f\"Skewness: {skew(df[col])}\")\n",
    "    \n",
    "    plt.figure()\n",
    "    sns.distplot(df[col])\n",
    "    plt.grid(True)\n",
    "    plt.show()"
   ]
  },
  {
   "cell_type": "code",
   "execution_count": 15,
   "id": "14c7503f",
   "metadata": {},
   "outputs": [
    {
     "data": {
      "text/plain": [
       "Gender            -0.042469\n",
       "EstimatedSalary    0.362083\n",
       "Age                0.622454\n",
       "Purchased          1.000000\n",
       "Name: Purchased, dtype: float64"
      ]
     },
     "execution_count": 15,
     "metadata": {},
     "output_type": "execute_result"
    }
   ],
   "source": [
    "df.corr()[\"Purchased\"].sort_values()"
   ]
  },
  {
   "cell_type": "code",
   "execution_count": 16,
   "id": "6cecaeed",
   "metadata": {},
   "outputs": [
    {
     "data": {
      "image/png": "[encoded data removed]",
      "text/plain": [
       "<Figure size 432x288 with 2 Axes>"
      ]
     },
     "metadata": {
      "needs_background": "light"
     },
     "output_type": "display_data"
    }
   ],
   "source": [
    "sns.heatmap(df.corr(),annot=True,cmap=\"viridis\")\n",
    "plt.show()"
   ]
  },
  {
   "cell_type": "code",
   "execution_count": 17,
   "id": "2d49a097",
   "metadata": {},
   "outputs": [
    {
     "data": {
      "text/plain": [
       "0.0    204\n",
       "1.0    196\n",
       "Name: Gender, dtype: int64"
      ]
     },
     "execution_count": 17,
     "metadata": {},
     "output_type": "execute_result"
    }
   ],
   "source": [
    "df[\"Gender\"].value_counts()"
   ]
  },
  {
   "cell_type": "code",
   "execution_count": 18,
   "id": "115a114d",
   "metadata": {},
   "outputs": [
    {
     "data": {
      "text/plain": [
       "[array(['Female', 'Male'], dtype=object)]"
      ]
     },
     "execution_count": 18,
     "metadata": {},
     "output_type": "execute_result"
    }
   ],
   "source": [
    "oe.categories_"
   ]
  },
  {
   "cell_type": "code",
   "execution_count": 19,
   "id": "ed882c59",
   "metadata": {},
   "outputs": [
    {
     "data": {
      "image/png": "[encoded data removed]",
      "text/plain": [
       "<Figure size 432x288 with 1 Axes>"
      ]
     },
     "metadata": {
      "needs_background": "light"
     },
     "output_type": "display_data"
    }
   ],
   "source": [
    "df[\"Gender\"].value_counts().plot(kind=\"bar\")\n",
    "plt.show()"
   ]
  },
  {
   "cell_type": "code",
   "execution_count": 20,
   "id": "38d6e626",
   "metadata": {},
   "outputs": [
    {
     "data": {
      "image/png": "[encoded data removed]",
      "text/plain": [
       "<Figure size 432x288 with 1 Axes>"
      ]
     },
     "metadata": {},
     "output_type": "display_data"
    }
   ],
   "source": [
    "df[\"Gender\"].value_counts().plot(kind=\"pie\",autopct=\"%.2f%%\")\n",
    "plt.show()"
   ]
  },
  {
   "cell_type": "code",
   "execution_count": 21,
   "id": "451fea25",
   "metadata": {},
   "outputs": [
    {
     "data": {
      "text/plain": [
       "0    257\n",
       "1    143\n",
       "Name: Purchased, dtype: int64"
      ]
     },
     "execution_count": 21,
     "metadata": {},
     "output_type": "execute_result"
    }
   ],
   "source": [
    "df[\"Purchased\"].value_counts()"
   ]
  },
  {
   "cell_type": "code",
   "execution_count": 22,
   "id": "a4e068fb",
   "metadata": {},
   "outputs": [
    {
     "data": {
      "image/png": "[encoded data removed]",
      "text/plain": [
       "<Figure size 432x288 with 1 Axes>"
      ]
     },
     "metadata": {
      "needs_background": "light"
     },
     "output_type": "display_data"
    }
   ],
   "source": [
    "sns.countplot(df[\"Purchased\"])\n",
    "plt.show()"
   ]
  },
  {
   "cell_type": "code",
   "execution_count": 23,
   "id": "6030f773",
   "metadata": {},
   "outputs": [
    {
     "data": {
      "image/png": "[encoded data removed]",
      "text/plain": [
       "<Figure size 432x288 with 1 Axes>"
      ]
     },
     "metadata": {},
     "output_type": "display_data"
    }
   ],
   "source": [
    "df[\"Purchased\"].value_counts().plot(kind=\"pie\",autopct=\"%.2f%%\")\n",
    "plt.show()"
   ]
  },
  {
   "cell_type": "code",
   "execution_count": 24,
   "id": "8f90d2e4",
   "metadata": {},
   "outputs": [
    {
     "data": {
      "text/plain": [
       "60"
      ]
     },
     "execution_count": 24,
     "metadata": {},
     "output_type": "execute_result"
    }
   ],
   "source": [
    "df[\"Age\"].max()"
   ]
  },
  {
   "cell_type": "code",
   "execution_count": 25,
   "id": "9e858002",
   "metadata": {},
   "outputs": [
    {
     "data": {
      "text/plain": [
       "18"
      ]
     },
     "execution_count": 25,
     "metadata": {},
     "output_type": "execute_result"
    }
   ],
   "source": [
    "df[\"Age\"].min()"
   ]
  },
  {
   "cell_type": "code",
   "execution_count": 26,
   "id": "63c215f9",
   "metadata": {},
   "outputs": [
    {
     "data": {
      "text/plain": [
       "37.655"
      ]
     },
     "execution_count": 26,
     "metadata": {},
     "output_type": "execute_result"
    }
   ],
   "source": [
    "df[\"Age\"].mean()"
   ]
  },
  {
   "cell_type": "code",
   "execution_count": 27,
   "id": "c454752e",
   "metadata": {},
   "outputs": [
    {
     "data": {
      "text/plain": [
       "150000"
      ]
     },
     "execution_count": 27,
     "metadata": {},
     "output_type": "execute_result"
    }
   ],
   "source": [
    "df[\"EstimatedSalary\"].max()"
   ]
  },
  {
   "cell_type": "code",
   "execution_count": 28,
   "id": "05103f1f",
   "metadata": {},
   "outputs": [
    {
     "data": {
      "text/plain": [
       "15000"
      ]
     },
     "execution_count": 28,
     "metadata": {},
     "output_type": "execute_result"
    }
   ],
   "source": [
    "df[\"EstimatedSalary\"].min()"
   ]
  },
  {
   "cell_type": "code",
   "execution_count": 29,
   "id": "139873d4",
   "metadata": {},
   "outputs": [
    {
     "data": {
      "text/plain": [
       "69742.5"
      ]
     },
     "execution_count": 29,
     "metadata": {},
     "output_type": "execute_result"
    }
   ],
   "source": [
    "df[\"EstimatedSalary\"].mean()"
   ]
  },
  {
   "cell_type": "code",
   "execution_count": 30,
   "id": "9f46fcd2",
   "metadata": {},
   "outputs": [
    {
     "data": {
      "text/plain": [
       "Index(['Gender', 'Age', 'EstimatedSalary', 'Purchased'], dtype='object')"
      ]
     },
     "execution_count": 30,
     "metadata": {},
     "output_type": "execute_result"
    }
   ],
   "source": [
    "df.columns"
   ]
  },
  {
   "cell_type": "code",
   "execution_count": 31,
   "id": "9e37942f",
   "metadata": {},
   "outputs": [
    {
     "data": {
      "text/html": [
       "<div>\n",
       "<style scoped>\n",
       "    .dataframe tbody tr th:only-of-type {\n",
       "        vertical-align: middle;\n",
       "    }\n",
       "\n",
       "    .dataframe tbody tr th {\n",
       "        vertical-align: top;\n",
       "    }\n",
       "\n",
       "    .dataframe thead th {\n",
       "        text-align: right;\n",
       "    }\n",
       "</style>\n",
       "<table border=\"1\" class=\"dataframe\">\n",
       "  <thead>\n",
       "    <tr style=\"text-align: right;\">\n",
       "      <th></th>\n",
       "      <th>Gender</th>\n",
       "      <th>Age</th>\n",
       "      <th>EstimatedSalary</th>\n",
       "    </tr>\n",
       "  </thead>\n",
       "  <tbody>\n",
       "    <tr>\n",
       "      <th>0</th>\n",
       "      <td>1.0</td>\n",
       "      <td>19</td>\n",
       "      <td>19000</td>\n",
       "    </tr>\n",
       "    <tr>\n",
       "      <th>1</th>\n",
       "      <td>1.0</td>\n",
       "      <td>35</td>\n",
       "      <td>20000</td>\n",
       "    </tr>\n",
       "    <tr>\n",
       "      <th>2</th>\n",
       "      <td>0.0</td>\n",
       "      <td>26</td>\n",
       "      <td>43000</td>\n",
       "    </tr>\n",
       "    <tr>\n",
       "      <th>3</th>\n",
       "      <td>0.0</td>\n",
       "      <td>27</td>\n",
       "      <td>57000</td>\n",
       "    </tr>\n",
       "    <tr>\n",
       "      <th>4</th>\n",
       "      <td>1.0</td>\n",
       "      <td>19</td>\n",
       "      <td>76000</td>\n",
       "    </tr>\n",
       "  </tbody>\n",
       "</table>\n",
       "</div>"
      ],
      "text/plain": [
       "   Gender  Age  EstimatedSalary\n",
       "0     1.0   19            19000\n",
       "1     1.0   35            20000\n",
       "2     0.0   26            43000\n",
       "3     0.0   27            57000\n",
       "4     1.0   19            76000"
      ]
     },
     "execution_count": 31,
     "metadata": {},
     "output_type": "execute_result"
    }
   ],
   "source": [
    "x=df.iloc[ : , :-1]\n",
    "x.head()"
   ]
  },
  {
   "cell_type": "code",
   "execution_count": 32,
   "id": "15611ff9",
   "metadata": {},
   "outputs": [
    {
     "data": {
      "text/plain": [
       "0    0\n",
       "1    0\n",
       "2    0\n",
       "3    0\n",
       "4    0\n",
       "Name: Purchased, dtype: int64"
      ]
     },
     "execution_count": 32,
     "metadata": {},
     "output_type": "execute_result"
    }
   ],
   "source": [
    "y=df.iloc[ : ,-1]\n",
    "y.head()"
   ]
  },
  {
   "cell_type": "code",
   "execution_count": 33,
   "id": "c8b96741",
   "metadata": {},
   "outputs": [],
   "source": [
    "from sklearn.model_selection import train_test_split\n",
    "xtrain,xtest,ytrain,ytest=train_test_split(x,y,test_size=0.2,random_state=1)"
   ]
  },
  {
   "cell_type": "markdown",
   "id": "55429c5b",
   "metadata": {},
   "source": [
    "# KNN"
   ]
  },
  {
   "cell_type": "code",
   "execution_count": 34,
   "id": "e951089c",
   "metadata": {},
   "outputs": [],
   "source": [
    "from sklearn.neighbors import KNeighborsClassifier\n",
    "knn=KNeighborsClassifier()\n",
    "knn.fit(xtrain,ytrain)\n",
    "ypred=knn.predict(xtest)"
   ]
  },
  {
   "cell_type": "code",
   "execution_count": 35,
   "id": "83c35ffa",
   "metadata": {},
   "outputs": [],
   "source": [
    "from sklearn.metrics import accuracy_score, classification_report, confusion_matrix"
   ]
  },
  {
   "cell_type": "code",
   "execution_count": 36,
   "id": "8879c969",
   "metadata": {},
   "outputs": [
    {
     "data": {
      "text/plain": [
       "0.75"
      ]
     },
     "execution_count": 36,
     "metadata": {},
     "output_type": "execute_result"
    }
   ],
   "source": [
    "accuracy_score(ytest,ypred)"
   ]
  },
  {
   "cell_type": "code",
   "execution_count": 37,
   "id": "478fe5c3",
   "metadata": {},
   "outputs": [
    {
     "name": "stdout",
     "output_type": "stream",
     "text": [
      "              precision    recall  f1-score   support\n",
      "\n",
      "           0       0.78      0.81      0.80        48\n",
      "           1       0.70      0.66      0.68        32\n",
      "\n",
      "    accuracy                           0.75        80\n",
      "   macro avg       0.74      0.73      0.74        80\n",
      "weighted avg       0.75      0.75      0.75        80\n",
      "\n"
     ]
    }
   ],
   "source": [
    "print(classification_report(ytest,ypred))"
   ]
  },
  {
   "cell_type": "code",
   "execution_count": 38,
   "id": "079228f3",
   "metadata": {},
   "outputs": [
    {
     "data": {
      "text/plain": [
       "array([[39,  9],\n",
       "       [11, 21]], dtype=int64)"
      ]
     },
     "execution_count": 38,
     "metadata": {},
     "output_type": "execute_result"
    }
   ],
   "source": [
    "confusion_matrix(ytest,ypred)"
   ]
  },
  {
   "cell_type": "markdown",
   "id": "ca56b3e8",
   "metadata": {},
   "source": [
    "#### Hyper-Parameter Tuning"
   ]
  },
  {
   "cell_type": "code",
   "execution_count": 39,
   "id": "69d9ae76",
   "metadata": {},
   "outputs": [],
   "source": [
    "accuracy=[]\n",
    "for i in range(1,21):\n",
    "    knn=KNeighborsClassifier(n_neighbors=i)\n",
    "    knn.fit(xtrain,ytrain)\n",
    "    ypred=knn.predict(xtest)\n",
    "    ac=accuracy_score(ytest,ypred)\n",
    "    accuracy.append(ac)"
   ]
  },
  {
   "cell_type": "code",
   "execution_count": 40,
   "id": "6b6dd0a2",
   "metadata": {},
   "outputs": [
    {
     "data": {
      "image/png": "[encoded data removed]",
      "text/plain": [
       "<Figure size 432x288 with 1 Axes>"
      ]
     },
     "metadata": {
      "needs_background": "light"
     },
     "output_type": "display_data"
    }
   ],
   "source": [
    "plt.plot(range(1,21),accuracy)\n",
    "plt.grid(True)\n",
    "plt.show()"
   ]
  },
  {
   "cell_type": "code",
   "execution_count": 41,
   "id": "20753393",
   "metadata": {},
   "outputs": [],
   "source": [
    "knn=KNeighborsClassifier(n_neighbors=4)\n",
    "knn.fit(xtrain,ytrain)\n",
    "ypred=knn.predict(xtest)"
   ]
  },
  {
   "cell_type": "code",
   "execution_count": 42,
   "id": "a9b6fd4e",
   "metadata": {},
   "outputs": [
    {
     "name": "stdout",
     "output_type": "stream",
     "text": [
      "              precision    recall  f1-score   support\n",
      "\n",
      "           0       0.77      0.90      0.83        48\n",
      "           1       0.79      0.59      0.68        32\n",
      "\n",
      "    accuracy                           0.78        80\n",
      "   macro avg       0.78      0.74      0.75        80\n",
      "weighted avg       0.78      0.78      0.77        80\n",
      "\n"
     ]
    }
   ],
   "source": [
    "print(classification_report(ytest,ypred))"
   ]
  },
  {
   "cell_type": "code",
   "execution_count": 43,
   "id": "2bbc4b70",
   "metadata": {},
   "outputs": [
    {
     "data": {
      "text/plain": [
       "0.775"
      ]
     },
     "execution_count": 43,
     "metadata": {},
     "output_type": "execute_result"
    }
   ],
   "source": [
    "accuracy_score(ytest,ypred)"
   ]
  },
  {
   "cell_type": "code",
   "execution_count": 44,
   "id": "95a72676",
   "metadata": {},
   "outputs": [
    {
     "data": {
      "text/plain": [
       "array([[43,  5],\n",
       "       [13, 19]], dtype=int64)"
      ]
     },
     "execution_count": 44,
     "metadata": {},
     "output_type": "execute_result"
    }
   ],
   "source": [
    "confusion_matrix(ytest,ypred)"
   ]
  },
  {
   "cell_type": "markdown",
   "id": "11c42648",
   "metadata": {},
   "source": [
    "#### Cross Validation Score"
   ]
  },
  {
   "cell_type": "code",
   "execution_count": 45,
   "id": "f17ece03",
   "metadata": {},
   "outputs": [],
   "source": [
    "from sklearn.model_selection import cross_val_score"
   ]
  },
  {
   "cell_type": "code",
   "execution_count": 46,
   "id": "4e6ad430",
   "metadata": {},
   "outputs": [
    {
     "data": {
      "text/plain": [
       "array([0.8125, 0.875 , 0.7375, 0.75  , 0.675 ])"
      ]
     },
     "execution_count": 46,
     "metadata": {},
     "output_type": "execute_result"
    }
   ],
   "source": [
    "cvs=cross_val_score(knn,x,y,cv=5,scoring=\"accuracy\")\n",
    "cvs"
   ]
  },
  {
   "cell_type": "code",
   "execution_count": 47,
   "id": "ba05d7a3",
   "metadata": {},
   "outputs": [
    {
     "data": {
      "text/plain": [
       "0.7699999999999999"
      ]
     },
     "execution_count": 47,
     "metadata": {},
     "output_type": "execute_result"
    }
   ],
   "source": [
    "cvs.mean()"
   ]
  },
  {
   "cell_type": "markdown",
   "id": "569733a4",
   "metadata": {},
   "source": [
    "#### Bagging"
   ]
  },
  {
   "cell_type": "code",
   "execution_count": 48,
   "id": "7903003e",
   "metadata": {},
   "outputs": [],
   "source": [
    "from sklearn.ensemble import BaggingClassifier"
   ]
  },
  {
   "cell_type": "code",
   "execution_count": 49,
   "id": "2def800b",
   "metadata": {},
   "outputs": [],
   "source": [
    "bg=BaggingClassifier(knn)\n",
    "bg.fit(xtrain,ytrain)\n",
    "ypred=bg.predict(xtest)"
   ]
  },
  {
   "cell_type": "code",
   "execution_count": 50,
   "id": "7fe1fe34",
   "metadata": {},
   "outputs": [
    {
     "name": "stdout",
     "output_type": "stream",
     "text": [
      "              precision    recall  f1-score   support\n",
      "\n",
      "           0       0.78      0.79      0.78        48\n",
      "           1       0.68      0.66      0.67        32\n",
      "\n",
      "    accuracy                           0.74        80\n",
      "   macro avg       0.73      0.72      0.73        80\n",
      "weighted avg       0.74      0.74      0.74        80\n",
      "\n"
     ]
    }
   ],
   "source": [
    "print(classification_report(ytest,ypred))"
   ]
  },
  {
   "cell_type": "code",
   "execution_count": 51,
   "id": "782fc362",
   "metadata": {},
   "outputs": [
    {
     "data": {
      "text/plain": [
       "0.7375"
      ]
     },
     "execution_count": 51,
     "metadata": {},
     "output_type": "execute_result"
    }
   ],
   "source": [
    "accuracy_score(ytest,ypred)"
   ]
  },
  {
   "cell_type": "markdown",
   "id": "1ca26423",
   "metadata": {},
   "source": [
    "# Logistic Regression"
   ]
  },
  {
   "cell_type": "code",
   "execution_count": 52,
   "id": "8138bd16",
   "metadata": {},
   "outputs": [],
   "source": [
    "from sklearn.linear_model import LogisticRegression\n",
    "logreg=LogisticRegression()\n",
    "logreg.fit(xtrain,ytrain)\n",
    "ypred=logreg.predict(xtest)"
   ]
  },
  {
   "cell_type": "code",
   "execution_count": 53,
   "id": "6f451da1",
   "metadata": {},
   "outputs": [
    {
     "name": "stdout",
     "output_type": "stream",
     "text": [
      "              precision    recall  f1-score   support\n",
      "\n",
      "           0       0.60      1.00      0.75        48\n",
      "           1       0.00      0.00      0.00        32\n",
      "\n",
      "    accuracy                           0.60        80\n",
      "   macro avg       0.30      0.50      0.37        80\n",
      "weighted avg       0.36      0.60      0.45        80\n",
      "\n"
     ]
    }
   ],
   "source": [
    "print(classification_report(ytest,ypred))"
   ]
  },
  {
   "cell_type": "code",
   "execution_count": 54,
   "id": "18ed8044",
   "metadata": {},
   "outputs": [
    {
     "name": "stdout",
     "output_type": "stream",
     "text": [
      "0.6\n"
     ]
    }
   ],
   "source": [
    "print(accuracy_score(ytest,ypred))"
   ]
  },
  {
   "cell_type": "code",
   "execution_count": 55,
   "id": "cbc21e60",
   "metadata": {},
   "outputs": [
    {
     "data": {
      "text/plain": [
       "array([[48,  0],\n",
       "       [32,  0]], dtype=int64)"
      ]
     },
     "execution_count": 55,
     "metadata": {},
     "output_type": "execute_result"
    }
   ],
   "source": [
    "confusion_matrix(ytest,ypred)"
   ]
  },
  {
   "cell_type": "markdown",
   "id": "03579a07",
   "metadata": {},
   "source": [
    "#### Hyper-Parameter Tuning"
   ]
  },
  {
   "cell_type": "code",
   "execution_count": 56,
   "id": "85711e81",
   "metadata": {},
   "outputs": [],
   "source": [
    "params={\n",
    "    \"C\":np.logspace(-3,3,7),\n",
    "    \"solver\":[\"liblinear\",\"lbfgs\",\"sag\",\"saga\",\"newton-cg\"],\n",
    "    \"penalty\":[\"l1\",\"l2\",\"elasticnet\"]\n",
    "}"
   ]
  },
  {
   "cell_type": "code",
   "execution_count": 57,
   "id": "3cc201de",
   "metadata": {},
   "outputs": [],
   "source": [
    "from sklearn.model_selection import GridSearchCV"
   ]
  },
  {
   "cell_type": "code",
   "execution_count": 58,
   "id": "24deda48",
   "metadata": {},
   "outputs": [
    {
     "name": "stdout",
     "output_type": "stream",
     "text": [
      "Fitting 5 folds for each of 105 candidates, totalling 525 fits\n",
      "[CV 1/5] END ..........C=0.001, penalty=l1, solver=liblinear; total time=   0.0s\n",
      "[CV 2/5] END ..........C=0.001, penalty=l1, solver=liblinear; total time=   0.0s\n",
      "[CV 3/5] END ..........C=0.001, penalty=l1, solver=liblinear; total time=   0.0s\n",
      "[CV 4/5] END ..........C=0.001, penalty=l1, solver=liblinear; total time=   0.0s\n",
      "[CV 5/5] END ..........C=0.001, penalty=l1, solver=liblinear; total time=   0.0s\n",
      "[CV 1/5] END ..............C=0.001, penalty=l1, solver=lbfgs; total time=   0.0s\n",
      "[CV 2/5] END ..............C=0.001, penalty=l1, solver=lbfgs; total time=   0.0s\n",
      "[CV 3/5] END ..............C=0.001, penalty=l1, solver=lbfgs; total time=   0.0s\n",
      "[CV 4/5] END ..............C=0.001, penalty=l1, solver=lbfgs; total time=   0.0s\n",
      "[CV 5/5] END ..............C=0.001, penalty=l1, solver=lbfgs; total time=   0.0s\n",
      "[CV 1/5] END ................C=0.001, penalty=l1, solver=sag; total time=   0.0s\n",
      "[CV 2/5] END ................C=0.001, penalty=l1, solver=sag; total time=   0.0s\n",
      "[CV 3/5] END ................C=0.001, penalty=l1, solver=sag; total time=   0.0s\n",
      "[CV 4/5] END ................C=0.001, penalty=l1, solver=sag; total time=   0.0s\n",
      "[CV 5/5] END ................C=0.001, penalty=l1, solver=sag; total time=   0.0s\n",
      "[CV 1/5] END ...............C=0.001, penalty=l1, solver=saga; total time=   0.0s\n",
      "[CV 2/5] END ...............C=0.001, penalty=l1, solver=saga; total time=   0.0s\n",
      "[CV 3/5] END ...............C=0.001, penalty=l1, solver=saga; total time=   0.0s\n",
      "[CV 4/5] END ...............C=0.001, penalty=l1, solver=saga; total time=   0.0s\n",
      "[CV 5/5] END ...............C=0.001, penalty=l1, solver=saga; total time=   0.0s\n",
      "[CV 1/5] END ..........C=0.001, penalty=l1, solver=newton-cg; total time=   0.0s\n",
      "[CV 2/5] END ..........C=0.001, penalty=l1, solver=newton-cg; total time=   0.0s\n",
      "[CV 3/5] END ..........C=0.001, penalty=l1, solver=newton-cg; total time=   0.0s\n",
      "[CV 4/5] END ..........C=0.001, penalty=l1, solver=newton-cg; total time=   0.0s\n",
      "[CV 5/5] END ..........C=0.001, penalty=l1, solver=newton-cg; total time=   0.0s\n",
      "[CV 1/5] END ..........C=0.001, penalty=l2, solver=liblinear; total time=   0.0s\n",
      "[CV 2/5] END ..........C=0.001, penalty=l2, solver=liblinear; total time=   0.0s\n",
      "[CV 3/5] END ..........C=0.001, penalty=l2, solver=liblinear; total time=   0.0s\n",
      "[CV 4/5] END ..........C=0.001, penalty=l2, solver=liblinear; total time=   0.0s\n",
      "[CV 5/5] END ..........C=0.001, penalty=l2, solver=liblinear; total time=   0.0s\n",
      "[CV 1/5] END ..............C=0.001, penalty=l2, solver=lbfgs; total time=   0.0s\n",
      "[CV 2/5] END ..............C=0.001, penalty=l2, solver=lbfgs; total time=   0.0s\n",
      "[CV 3/5] END ..............C=0.001, penalty=l2, solver=lbfgs; total time=   0.0s\n",
      "[CV 4/5] END ..............C=0.001, penalty=l2, solver=lbfgs; total time=   0.0s\n",
      "[CV 5/5] END ..............C=0.001, penalty=l2, solver=lbfgs; total time=   0.0s\n",
      "[CV 1/5] END ................C=0.001, penalty=l2, solver=sag; total time=   0.0s\n",
      "[CV 2/5] END ................C=0.001, penalty=l2, solver=sag; total time=   0.0s\n",
      "[CV 3/5] END ................C=0.001, penalty=l2, solver=sag; total time=   0.0s\n",
      "[CV 4/5] END ................C=0.001, penalty=l2, solver=sag; total time=   0.0s\n",
      "[CV 5/5] END ................C=0.001, penalty=l2, solver=sag; total time=   0.0s\n",
      "[CV 1/5] END ...............C=0.001, penalty=l2, solver=saga; total time=   0.0s\n",
      "[CV 2/5] END ...............C=0.001, penalty=l2, solver=saga; total time=   0.0s\n",
      "[CV 3/5] END ...............C=0.001, penalty=l2, solver=saga; total time=   0.0s\n",
      "[CV 4/5] END ...............C=0.001, penalty=l2, solver=saga; total time=   0.0s\n",
      "[CV 5/5] END ...............C=0.001, penalty=l2, solver=saga; total time=   0.0s\n",
      "[CV 1/5] END ..........C=0.001, penalty=l2, solver=newton-cg; total time=   0.4s\n",
      "[CV 2/5] END ..........C=0.001, penalty=l2, solver=newton-cg; total time=   0.2s\n",
      "[CV 3/5] END ..........C=0.001, penalty=l2, solver=newton-cg; total time=   0.1s\n",
      "[CV 4/5] END ..........C=0.001, penalty=l2, solver=newton-cg; total time=   0.2s\n",
      "[CV 5/5] END ..........C=0.001, penalty=l2, solver=newton-cg; total time=   0.2s\n",
      "[CV 1/5] END ..C=0.001, penalty=elasticnet, solver=liblinear; total time=   0.0s\n",
      "[CV 2/5] END ..C=0.001, penalty=elasticnet, solver=liblinear; total time=   0.0s\n",
      "[CV 3/5] END ..C=0.001, penalty=elasticnet, solver=liblinear; total time=   0.0s\n",
      "[CV 4/5] END ..C=0.001, penalty=elasticnet, solver=liblinear; total time=   0.0s\n",
      "[CV 5/5] END ..C=0.001, penalty=elasticnet, solver=liblinear; total time=   0.0s\n",
      "[CV 1/5] END ......C=0.001, penalty=elasticnet, solver=lbfgs; total time=   0.0s\n",
      "[CV 2/5] END ......C=0.001, penalty=elasticnet, solver=lbfgs; total time=   0.0s\n",
      "[CV 3/5] END ......C=0.001, penalty=elasticnet, solver=lbfgs; total time=   0.0s\n",
      "[CV 4/5] END ......C=0.001, penalty=elasticnet, solver=lbfgs; total time=   0.0s\n",
      "[CV 5/5] END ......C=0.001, penalty=elasticnet, solver=lbfgs; total time=   0.0s\n",
      "[CV 1/5] END ........C=0.001, penalty=elasticnet, solver=sag; total time=   0.0s\n",
      "[CV 2/5] END ........C=0.001, penalty=elasticnet, solver=sag; total time=   0.0s\n",
      "[CV 3/5] END ........C=0.001, penalty=elasticnet, solver=sag; total time=   0.0s\n",
      "[CV 4/5] END ........C=0.001, penalty=elasticnet, solver=sag; total time=   0.0s\n",
      "[CV 5/5] END ........C=0.001, penalty=elasticnet, solver=sag; total time=   0.0s\n",
      "[CV 1/5] END .......C=0.001, penalty=elasticnet, solver=saga; total time=   0.0s\n",
      "[CV 2/5] END .......C=0.001, penalty=elasticnet, solver=saga; total time=   0.0s\n",
      "[CV 3/5] END .......C=0.001, penalty=elasticnet, solver=saga; total time=   0.0s\n",
      "[CV 4/5] END .......C=0.001, penalty=elasticnet, solver=saga; total time=   0.0s\n",
      "[CV 5/5] END .......C=0.001, penalty=elasticnet, solver=saga; total time=   0.0s\n",
      "[CV 1/5] END ..C=0.001, penalty=elasticnet, solver=newton-cg; total time=   0.0s\n",
      "[CV 2/5] END ..C=0.001, penalty=elasticnet, solver=newton-cg; total time=   0.0s\n",
      "[CV 3/5] END ..C=0.001, penalty=elasticnet, solver=newton-cg; total time=   0.0s\n",
      "[CV 4/5] END ..C=0.001, penalty=elasticnet, solver=newton-cg; total time=   0.0s\n",
      "[CV 5/5] END ..C=0.001, penalty=elasticnet, solver=newton-cg; total time=   0.0s\n",
      "[CV 1/5] END ...........C=0.01, penalty=l1, solver=liblinear; total time=   0.0s\n",
      "[CV 2/5] END ...........C=0.01, penalty=l1, solver=liblinear; total time=   0.0s\n",
      "[CV 3/5] END ...........C=0.01, penalty=l1, solver=liblinear; total time=   0.0s\n",
      "[CV 4/5] END ...........C=0.01, penalty=l1, solver=liblinear; total time=   0.0s\n",
      "[CV 5/5] END ...........C=0.01, penalty=l1, solver=liblinear; total time=   0.0s\n",
      "[CV 1/5] END ...............C=0.01, penalty=l1, solver=lbfgs; total time=   0.0s\n",
      "[CV 2/5] END ...............C=0.01, penalty=l1, solver=lbfgs; total time=   0.0s\n",
      "[CV 3/5] END ...............C=0.01, penalty=l1, solver=lbfgs; total time=   0.0s\n",
      "[CV 4/5] END ...............C=0.01, penalty=l1, solver=lbfgs; total time=   0.0s\n",
      "[CV 5/5] END ...............C=0.01, penalty=l1, solver=lbfgs; total time=   0.0s\n",
      "[CV 1/5] END .................C=0.01, penalty=l1, solver=sag; total time=   0.0s\n",
      "[CV 2/5] END .................C=0.01, penalty=l1, solver=sag; total time=   0.0s\n",
      "[CV 3/5] END .................C=0.01, penalty=l1, solver=sag; total time=   0.0s\n",
      "[CV 4/5] END .................C=0.01, penalty=l1, solver=sag; total time=   0.0s\n",
      "[CV 5/5] END .................C=0.01, penalty=l1, solver=sag; total time=   0.0s\n",
      "[CV 1/5] END ................C=0.01, penalty=l1, solver=saga; total time=   0.0s\n",
      "[CV 2/5] END ................C=0.01, penalty=l1, solver=saga; total time=   0.0s\n",
      "[CV 3/5] END ................C=0.01, penalty=l1, solver=saga; total time=   0.0s\n",
      "[CV 4/5] END ................C=0.01, penalty=l1, solver=saga; total time=   0.0s\n",
      "[CV 5/5] END ................C=0.01, penalty=l1, solver=saga; total time=   0.0s\n",
      "[CV 1/5] END ...........C=0.01, penalty=l1, solver=newton-cg; total time=   0.0s\n",
      "[CV 2/5] END ...........C=0.01, penalty=l1, solver=newton-cg; total time=   0.0s\n",
      "[CV 3/5] END ...........C=0.01, penalty=l1, solver=newton-cg; total time=   0.0s\n",
      "[CV 4/5] END ...........C=0.01, penalty=l1, solver=newton-cg; total time=   0.0s\n",
      "[CV 5/5] END ...........C=0.01, penalty=l1, solver=newton-cg; total time=   0.0s\n",
      "[CV 1/5] END ...........C=0.01, penalty=l2, solver=liblinear; total time=   0.0s\n",
      "[CV 2/5] END ...........C=0.01, penalty=l2, solver=liblinear; total time=   0.0s\n",
      "[CV 3/5] END ...........C=0.01, penalty=l2, solver=liblinear; total time=   0.0s\n",
      "[CV 4/5] END ...........C=0.01, penalty=l2, solver=liblinear; total time=   0.0s\n",
      "[CV 5/5] END ...........C=0.01, penalty=l2, solver=liblinear; total time=   0.0s\n",
      "[CV 1/5] END ...............C=0.01, penalty=l2, solver=lbfgs; total time=   0.0s\n",
      "[CV 2/5] END ...............C=0.01, penalty=l2, solver=lbfgs; total time=   0.0s\n"
     ]
    },
    {
     "name": "stdout",
     "output_type": "stream",
     "text": [
      "[CV 3/5] END ...............C=0.01, penalty=l2, solver=lbfgs; total time=   0.0s\n",
      "[CV 4/5] END ...............C=0.01, penalty=l2, solver=lbfgs; total time=   0.0s\n",
      "[CV 5/5] END ...............C=0.01, penalty=l2, solver=lbfgs; total time=   0.0s\n",
      "[CV 1/5] END .................C=0.01, penalty=l2, solver=sag; total time=   0.0s\n",
      "[CV 2/5] END .................C=0.01, penalty=l2, solver=sag; total time=   0.0s\n",
      "[CV 3/5] END .................C=0.01, penalty=l2, solver=sag; total time=   0.0s\n",
      "[CV 4/5] END .................C=0.01, penalty=l2, solver=sag; total time=   0.0s\n",
      "[CV 5/5] END .................C=0.01, penalty=l2, solver=sag; total time=   0.0s\n",
      "[CV 1/5] END ................C=0.01, penalty=l2, solver=saga; total time=   0.0s\n",
      "[CV 2/5] END ................C=0.01, penalty=l2, solver=saga; total time=   0.0s\n",
      "[CV 3/5] END ................C=0.01, penalty=l2, solver=saga; total time=   0.0s\n",
      "[CV 4/5] END ................C=0.01, penalty=l2, solver=saga; total time=   0.0s\n",
      "[CV 5/5] END ................C=0.01, penalty=l2, solver=saga; total time=   0.0s\n",
      "[CV 1/5] END ...........C=0.01, penalty=l2, solver=newton-cg; total time=   0.1s\n",
      "[CV 2/5] END ...........C=0.01, penalty=l2, solver=newton-cg; total time=   0.0s\n",
      "[CV 3/5] END ...........C=0.01, penalty=l2, solver=newton-cg; total time=   0.0s\n",
      "[CV 4/5] END ...........C=0.01, penalty=l2, solver=newton-cg; total time=   0.0s\n",
      "[CV 5/5] END ...........C=0.01, penalty=l2, solver=newton-cg; total time=   0.1s\n",
      "[CV 1/5] END ...C=0.01, penalty=elasticnet, solver=liblinear; total time=   0.0s\n",
      "[CV 2/5] END ...C=0.01, penalty=elasticnet, solver=liblinear; total time=   0.0s\n",
      "[CV 3/5] END ...C=0.01, penalty=elasticnet, solver=liblinear; total time=   0.0s\n",
      "[CV 4/5] END ...C=0.01, penalty=elasticnet, solver=liblinear; total time=   0.0s\n",
      "[CV 5/5] END ...C=0.01, penalty=elasticnet, solver=liblinear; total time=   0.0s\n",
      "[CV 1/5] END .......C=0.01, penalty=elasticnet, solver=lbfgs; total time=   0.0s\n",
      "[CV 2/5] END .......C=0.01, penalty=elasticnet, solver=lbfgs; total time=   0.0s\n",
      "[CV 3/5] END .......C=0.01, penalty=elasticnet, solver=lbfgs; total time=   0.0s\n",
      "[CV 4/5] END .......C=0.01, penalty=elasticnet, solver=lbfgs; total time=   0.0s\n",
      "[CV 5/5] END .......C=0.01, penalty=elasticnet, solver=lbfgs; total time=   0.0s\n",
      "[CV 1/5] END .........C=0.01, penalty=elasticnet, solver=sag; total time=   0.0s\n",
      "[CV 2/5] END .........C=0.01, penalty=elasticnet, solver=sag; total time=   0.0s\n",
      "[CV 3/5] END .........C=0.01, penalty=elasticnet, solver=sag; total time=   0.0s\n",
      "[CV 4/5] END .........C=0.01, penalty=elasticnet, solver=sag; total time=   0.0s\n",
      "[CV 5/5] END .........C=0.01, penalty=elasticnet, solver=sag; total time=   0.0s\n",
      "[CV 1/5] END ........C=0.01, penalty=elasticnet, solver=saga; total time=   0.0s\n",
      "[CV 2/5] END ........C=0.01, penalty=elasticnet, solver=saga; total time=   0.0s\n",
      "[CV 3/5] END ........C=0.01, penalty=elasticnet, solver=saga; total time=   0.0s\n",
      "[CV 4/5] END ........C=0.01, penalty=elasticnet, solver=saga; total time=   0.0s\n",
      "[CV 5/5] END ........C=0.01, penalty=elasticnet, solver=saga; total time=   0.0s\n",
      "[CV 1/5] END ...C=0.01, penalty=elasticnet, solver=newton-cg; total time=   0.0s\n",
      "[CV 2/5] END ...C=0.01, penalty=elasticnet, solver=newton-cg; total time=   0.0s\n",
      "[CV 3/5] END ...C=0.01, penalty=elasticnet, solver=newton-cg; total time=   0.0s\n",
      "[CV 4/5] END ...C=0.01, penalty=elasticnet, solver=newton-cg; total time=   0.0s\n",
      "[CV 5/5] END ...C=0.01, penalty=elasticnet, solver=newton-cg; total time=   0.0s\n",
      "[CV 1/5] END ............C=0.1, penalty=l1, solver=liblinear; total time=   0.0s\n",
      "[CV 2/5] END ............C=0.1, penalty=l1, solver=liblinear; total time=   0.0s\n",
      "[CV 3/5] END ............C=0.1, penalty=l1, solver=liblinear; total time=   0.0s\n",
      "[CV 4/5] END ............C=0.1, penalty=l1, solver=liblinear; total time=   0.0s\n",
      "[CV 5/5] END ............C=0.1, penalty=l1, solver=liblinear; total time=   0.0s\n",
      "[CV 1/5] END ................C=0.1, penalty=l1, solver=lbfgs; total time=   0.0s\n",
      "[CV 2/5] END ................C=0.1, penalty=l1, solver=lbfgs; total time=   0.0s\n",
      "[CV 3/5] END ................C=0.1, penalty=l1, solver=lbfgs; total time=   0.0s\n",
      "[CV 4/5] END ................C=0.1, penalty=l1, solver=lbfgs; total time=   0.0s\n",
      "[CV 5/5] END ................C=0.1, penalty=l1, solver=lbfgs; total time=   0.0s\n",
      "[CV 1/5] END ..................C=0.1, penalty=l1, solver=sag; total time=   0.0s\n",
      "[CV 2/5] END ..................C=0.1, penalty=l1, solver=sag; total time=   0.0s\n",
      "[CV 3/5] END ..................C=0.1, penalty=l1, solver=sag; total time=   0.0s\n",
      "[CV 4/5] END ..................C=0.1, penalty=l1, solver=sag; total time=   0.0s\n",
      "[CV 5/5] END ..................C=0.1, penalty=l1, solver=sag; total time=   0.0s\n",
      "[CV 1/5] END .................C=0.1, penalty=l1, solver=saga; total time=   0.0s\n",
      "[CV 2/5] END .................C=0.1, penalty=l1, solver=saga; total time=   0.0s\n",
      "[CV 3/5] END .................C=0.1, penalty=l1, solver=saga; total time=   0.0s\n",
      "[CV 4/5] END .................C=0.1, penalty=l1, solver=saga; total time=   0.0s\n",
      "[CV 5/5] END .................C=0.1, penalty=l1, solver=saga; total time=   0.0s\n",
      "[CV 1/5] END ............C=0.1, penalty=l1, solver=newton-cg; total time=   0.0s\n",
      "[CV 2/5] END ............C=0.1, penalty=l1, solver=newton-cg; total time=   0.0s\n",
      "[CV 3/5] END ............C=0.1, penalty=l1, solver=newton-cg; total time=   0.0s\n",
      "[CV 4/5] END ............C=0.1, penalty=l1, solver=newton-cg; total time=   0.0s\n",
      "[CV 5/5] END ............C=0.1, penalty=l1, solver=newton-cg; total time=   0.0s\n",
      "[CV 1/5] END ............C=0.1, penalty=l2, solver=liblinear; total time=   0.0s\n",
      "[CV 2/5] END ............C=0.1, penalty=l2, solver=liblinear; total time=   0.0s\n",
      "[CV 3/5] END ............C=0.1, penalty=l2, solver=liblinear; total time=   0.0s\n",
      "[CV 4/5] END ............C=0.1, penalty=l2, solver=liblinear; total time=   0.0s\n",
      "[CV 5/5] END ............C=0.1, penalty=l2, solver=liblinear; total time=   0.0s\n",
      "[CV 1/5] END ................C=0.1, penalty=l2, solver=lbfgs; total time=   0.0s\n",
      "[CV 2/5] END ................C=0.1, penalty=l2, solver=lbfgs; total time=   0.0s\n",
      "[CV 3/5] END ................C=0.1, penalty=l2, solver=lbfgs; total time=   0.0s\n",
      "[CV 4/5] END ................C=0.1, penalty=l2, solver=lbfgs; total time=   0.0s\n",
      "[CV 5/5] END ................C=0.1, penalty=l2, solver=lbfgs; total time=   0.0s\n",
      "[CV 1/5] END ..................C=0.1, penalty=l2, solver=sag; total time=   0.0s\n",
      "[CV 2/5] END ..................C=0.1, penalty=l2, solver=sag; total time=   0.0s\n",
      "[CV 3/5] END ..................C=0.1, penalty=l2, solver=sag; total time=   0.0s\n",
      "[CV 4/5] END ..................C=0.1, penalty=l2, solver=sag; total time=   0.0s\n",
      "[CV 5/5] END ..................C=0.1, penalty=l2, solver=sag; total time=   0.0s\n",
      "[CV 1/5] END .................C=0.1, penalty=l2, solver=saga; total time=   0.0s\n",
      "[CV 2/5] END .................C=0.1, penalty=l2, solver=saga; total time=   0.0s\n",
      "[CV 3/5] END .................C=0.1, penalty=l2, solver=saga; total time=   0.0s\n",
      "[CV 4/5] END .................C=0.1, penalty=l2, solver=saga; total time=   0.0s\n",
      "[CV 5/5] END .................C=0.1, penalty=l2, solver=saga; total time=   0.0s\n",
      "[CV 1/5] END ............C=0.1, penalty=l2, solver=newton-cg; total time=   0.0s\n",
      "[CV 2/5] END ............C=0.1, penalty=l2, solver=newton-cg; total time=   0.0s\n",
      "[CV 3/5] END ............C=0.1, penalty=l2, solver=newton-cg; total time=   0.0s\n",
      "[CV 4/5] END ............C=0.1, penalty=l2, solver=newton-cg; total time=   0.0s\n",
      "[CV 5/5] END ............C=0.1, penalty=l2, solver=newton-cg; total time=   0.1s\n",
      "[CV 1/5] END ....C=0.1, penalty=elasticnet, solver=liblinear; total time=   0.0s\n",
      "[CV 2/5] END ....C=0.1, penalty=elasticnet, solver=liblinear; total time=   0.0s\n",
      "[CV 3/5] END ....C=0.1, penalty=elasticnet, solver=liblinear; total time=   0.0s\n",
      "[CV 4/5] END ....C=0.1, penalty=elasticnet, solver=liblinear; total time=   0.0s\n",
      "[CV 5/5] END ....C=0.1, penalty=elasticnet, solver=liblinear; total time=   0.0s\n",
      "[CV 1/5] END ........C=0.1, penalty=elasticnet, solver=lbfgs; total time=   0.0s\n",
      "[CV 2/5] END ........C=0.1, penalty=elasticnet, solver=lbfgs; total time=   0.0s\n",
      "[CV 3/5] END ........C=0.1, penalty=elasticnet, solver=lbfgs; total time=   0.0s\n",
      "[CV 4/5] END ........C=0.1, penalty=elasticnet, solver=lbfgs; total time=   0.0s\n",
      "[CV 5/5] END ........C=0.1, penalty=elasticnet, solver=lbfgs; total time=   0.0s\n",
      "[CV 1/5] END ..........C=0.1, penalty=elasticnet, solver=sag; total time=   0.0s\n",
      "[CV 2/5] END ..........C=0.1, penalty=elasticnet, solver=sag; total time=   0.0s\n",
      "[CV 3/5] END ..........C=0.1, penalty=elasticnet, solver=sag; total time=   0.0s\n",
      "[CV 4/5] END ..........C=0.1, penalty=elasticnet, solver=sag; total time=   0.0s\n",
      "[CV 5/5] END ..........C=0.1, penalty=elasticnet, solver=sag; total time=   0.0s\n",
      "[CV 1/5] END .........C=0.1, penalty=elasticnet, solver=saga; total time=   0.0s\n",
      "[CV 2/5] END .........C=0.1, penalty=elasticnet, solver=saga; total time=   0.0s\n",
      "[CV 3/5] END .........C=0.1, penalty=elasticnet, solver=saga; total time=   0.0s\n",
      "[CV 4/5] END .........C=0.1, penalty=elasticnet, solver=saga; total time=   0.0s\n",
      "[CV 5/5] END .........C=0.1, penalty=elasticnet, solver=saga; total time=   0.0s\n",
      "[CV 1/5] END ....C=0.1, penalty=elasticnet, solver=newton-cg; total time=   0.0s\n",
      "[CV 2/5] END ....C=0.1, penalty=elasticnet, solver=newton-cg; total time=   0.0s\n",
      "[CV 3/5] END ....C=0.1, penalty=elasticnet, solver=newton-cg; total time=   0.0s\n",
      "[CV 4/5] END ....C=0.1, penalty=elasticnet, solver=newton-cg; total time=   0.0s\n",
      "[CV 5/5] END ....C=0.1, penalty=elasticnet, solver=newton-cg; total time=   0.0s\n",
      "[CV 1/5] END ............C=1.0, penalty=l1, solver=liblinear; total time=   0.0s\n",
      "[CV 2/5] END ............C=1.0, penalty=l1, solver=liblinear; total time=   0.0s\n",
      "[CV 3/5] END ............C=1.0, penalty=l1, solver=liblinear; total time=   0.0s\n",
      "[CV 4/5] END ............C=1.0, penalty=l1, solver=liblinear; total time=   0.0s\n",
      "[CV 5/5] END ............C=1.0, penalty=l1, solver=liblinear; total time=   0.0s\n",
      "[CV 1/5] END ................C=1.0, penalty=l1, solver=lbfgs; total time=   0.0s\n",
      "[CV 2/5] END ................C=1.0, penalty=l1, solver=lbfgs; total time=   0.0s\n",
      "[CV 3/5] END ................C=1.0, penalty=l1, solver=lbfgs; total time=   0.0s\n",
      "[CV 4/5] END ................C=1.0, penalty=l1, solver=lbfgs; total time=   0.0s\n",
      "[CV 5/5] END ................C=1.0, penalty=l1, solver=lbfgs; total time=   0.0s\n",
      "[CV 1/5] END ..................C=1.0, penalty=l1, solver=sag; total time=   0.0s\n",
      "[CV 2/5] END ..................C=1.0, penalty=l1, solver=sag; total time=   0.0s\n",
      "[CV 3/5] END ..................C=1.0, penalty=l1, solver=sag; total time=   0.0s\n",
      "[CV 4/5] END ..................C=1.0, penalty=l1, solver=sag; total time=   0.0s\n",
      "[CV 5/5] END ..................C=1.0, penalty=l1, solver=sag; total time=   0.0s\n",
      "[CV 1/5] END .................C=1.0, penalty=l1, solver=saga; total time=   0.0s\n"
     ]
    },
    {
     "name": "stdout",
     "output_type": "stream",
     "text": [
      "[CV 2/5] END .................C=1.0, penalty=l1, solver=saga; total time=   0.0s\n",
      "[CV 3/5] END .................C=1.0, penalty=l1, solver=saga; total time=   0.0s\n",
      "[CV 4/5] END .................C=1.0, penalty=l1, solver=saga; total time=   0.0s\n",
      "[CV 5/5] END .................C=1.0, penalty=l1, solver=saga; total time=   0.0s\n",
      "[CV 1/5] END ............C=1.0, penalty=l1, solver=newton-cg; total time=   0.0s\n",
      "[CV 2/5] END ............C=1.0, penalty=l1, solver=newton-cg; total time=   0.0s\n",
      "[CV 3/5] END ............C=1.0, penalty=l1, solver=newton-cg; total time=   0.0s\n",
      "[CV 4/5] END ............C=1.0, penalty=l1, solver=newton-cg; total time=   0.0s\n",
      "[CV 5/5] END ............C=1.0, penalty=l1, solver=newton-cg; total time=   0.0s\n",
      "[CV 1/5] END ............C=1.0, penalty=l2, solver=liblinear; total time=   0.0s\n",
      "[CV 2/5] END ............C=1.0, penalty=l2, solver=liblinear; total time=   0.0s\n",
      "[CV 3/5] END ............C=1.0, penalty=l2, solver=liblinear; total time=   0.0s\n",
      "[CV 4/5] END ............C=1.0, penalty=l2, solver=liblinear; total time=   0.0s\n",
      "[CV 5/5] END ............C=1.0, penalty=l2, solver=liblinear; total time=   0.0s\n",
      "[CV 1/5] END ................C=1.0, penalty=l2, solver=lbfgs; total time=   0.0s\n",
      "[CV 2/5] END ................C=1.0, penalty=l2, solver=lbfgs; total time=   0.0s\n",
      "[CV 3/5] END ................C=1.0, penalty=l2, solver=lbfgs; total time=   0.0s\n",
      "[CV 4/5] END ................C=1.0, penalty=l2, solver=lbfgs; total time=   0.0s\n",
      "[CV 5/5] END ................C=1.0, penalty=l2, solver=lbfgs; total time=   0.0s\n",
      "[CV 1/5] END ..................C=1.0, penalty=l2, solver=sag; total time=   0.0s\n",
      "[CV 2/5] END ..................C=1.0, penalty=l2, solver=sag; total time=   0.0s\n",
      "[CV 3/5] END ..................C=1.0, penalty=l2, solver=sag; total time=   0.0s\n",
      "[CV 4/5] END ..................C=1.0, penalty=l2, solver=sag; total time=   0.0s\n",
      "[CV 5/5] END ..................C=1.0, penalty=l2, solver=sag; total time=   0.0s\n",
      "[CV 1/5] END .................C=1.0, penalty=l2, solver=saga; total time=   0.0s\n",
      "[CV 2/5] END .................C=1.0, penalty=l2, solver=saga; total time=   0.0s\n",
      "[CV 3/5] END .................C=1.0, penalty=l2, solver=saga; total time=   0.0s\n",
      "[CV 4/5] END .................C=1.0, penalty=l2, solver=saga; total time=   0.0s\n",
      "[CV 5/5] END .................C=1.0, penalty=l2, solver=saga; total time=   0.0s\n",
      "[CV 1/5] END ............C=1.0, penalty=l2, solver=newton-cg; total time=   0.0s\n",
      "[CV 2/5] END ............C=1.0, penalty=l2, solver=newton-cg; total time=   0.0s\n",
      "[CV 3/5] END ............C=1.0, penalty=l2, solver=newton-cg; total time=   0.1s\n",
      "[CV 4/5] END ............C=1.0, penalty=l2, solver=newton-cg; total time=   0.0s\n",
      "[CV 5/5] END ............C=1.0, penalty=l2, solver=newton-cg; total time=   0.0s\n",
      "[CV 1/5] END ....C=1.0, penalty=elasticnet, solver=liblinear; total time=   0.0s\n",
      "[CV 2/5] END ....C=1.0, penalty=elasticnet, solver=liblinear; total time=   0.0s\n",
      "[CV 3/5] END ....C=1.0, penalty=elasticnet, solver=liblinear; total time=   0.0s\n",
      "[CV 4/5] END ....C=1.0, penalty=elasticnet, solver=liblinear; total time=   0.0s\n",
      "[CV 5/5] END ....C=1.0, penalty=elasticnet, solver=liblinear; total time=   0.0s\n",
      "[CV 1/5] END ........C=1.0, penalty=elasticnet, solver=lbfgs; total time=   0.0s\n",
      "[CV 2/5] END ........C=1.0, penalty=elasticnet, solver=lbfgs; total time=   0.0s\n",
      "[CV 3/5] END ........C=1.0, penalty=elasticnet, solver=lbfgs; total time=   0.0s\n",
      "[CV 4/5] END ........C=1.0, penalty=elasticnet, solver=lbfgs; total time=   0.0s\n",
      "[CV 5/5] END ........C=1.0, penalty=elasticnet, solver=lbfgs; total time=   0.0s\n",
      "[CV 1/5] END ..........C=1.0, penalty=elasticnet, solver=sag; total time=   0.0s\n",
      "[CV 2/5] END ..........C=1.0, penalty=elasticnet, solver=sag; total time=   0.0s\n",
      "[CV 3/5] END ..........C=1.0, penalty=elasticnet, solver=sag; total time=   0.0s\n",
      "[CV 4/5] END ..........C=1.0, penalty=elasticnet, solver=sag; total time=   0.0s\n",
      "[CV 5/5] END ..........C=1.0, penalty=elasticnet, solver=sag; total time=   0.0s\n",
      "[CV 1/5] END .........C=1.0, penalty=elasticnet, solver=saga; total time=   0.0s\n",
      "[CV 2/5] END .........C=1.0, penalty=elasticnet, solver=saga; total time=   0.0s\n",
      "[CV 3/5] END .........C=1.0, penalty=elasticnet, solver=saga; total time=   0.0s\n",
      "[CV 4/5] END .........C=1.0, penalty=elasticnet, solver=saga; total time=   0.0s\n",
      "[CV 5/5] END .........C=1.0, penalty=elasticnet, solver=saga; total time=   0.0s\n",
      "[CV 1/5] END ....C=1.0, penalty=elasticnet, solver=newton-cg; total time=   0.0s\n",
      "[CV 2/5] END ....C=1.0, penalty=elasticnet, solver=newton-cg; total time=   0.0s\n",
      "[CV 3/5] END ....C=1.0, penalty=elasticnet, solver=newton-cg; total time=   0.0s\n",
      "[CV 4/5] END ....C=1.0, penalty=elasticnet, solver=newton-cg; total time=   0.0s\n",
      "[CV 5/5] END ....C=1.0, penalty=elasticnet, solver=newton-cg; total time=   0.0s\n",
      "[CV 1/5] END ...........C=10.0, penalty=l1, solver=liblinear; total time=   0.0s\n",
      "[CV 2/5] END ...........C=10.0, penalty=l1, solver=liblinear; total time=   0.0s\n",
      "[CV 3/5] END ...........C=10.0, penalty=l1, solver=liblinear; total time=   0.0s\n",
      "[CV 4/5] END ...........C=10.0, penalty=l1, solver=liblinear; total time=   0.0s\n",
      "[CV 5/5] END ...........C=10.0, penalty=l1, solver=liblinear; total time=   0.0s\n",
      "[CV 1/5] END ...............C=10.0, penalty=l1, solver=lbfgs; total time=   0.0s\n",
      "[CV 2/5] END ...............C=10.0, penalty=l1, solver=lbfgs; total time=   0.0s\n",
      "[CV 3/5] END ...............C=10.0, penalty=l1, solver=lbfgs; total time=   0.0s\n",
      "[CV 4/5] END ...............C=10.0, penalty=l1, solver=lbfgs; total time=   0.0s\n",
      "[CV 5/5] END ...............C=10.0, penalty=l1, solver=lbfgs; total time=   0.0s\n",
      "[CV 1/5] END .................C=10.0, penalty=l1, solver=sag; total time=   0.0s\n",
      "[CV 2/5] END .................C=10.0, penalty=l1, solver=sag; total time=   0.0s\n",
      "[CV 3/5] END .................C=10.0, penalty=l1, solver=sag; total time=   0.0s\n",
      "[CV 4/5] END .................C=10.0, penalty=l1, solver=sag; total time=   0.0s\n",
      "[CV 5/5] END .................C=10.0, penalty=l1, solver=sag; total time=   0.0s\n",
      "[CV 1/5] END ................C=10.0, penalty=l1, solver=saga; total time=   0.0s\n",
      "[CV 2/5] END ................C=10.0, penalty=l1, solver=saga; total time=   0.0s\n",
      "[CV 3/5] END ................C=10.0, penalty=l1, solver=saga; total time=   0.0s\n",
      "[CV 4/5] END ................C=10.0, penalty=l1, solver=saga; total time=   0.0s\n",
      "[CV 5/5] END ................C=10.0, penalty=l1, solver=saga; total time=   0.0s\n",
      "[CV 1/5] END ...........C=10.0, penalty=l1, solver=newton-cg; total time=   0.0s\n",
      "[CV 2/5] END ...........C=10.0, penalty=l1, solver=newton-cg; total time=   0.0s\n",
      "[CV 3/5] END ...........C=10.0, penalty=l1, solver=newton-cg; total time=   0.0s\n",
      "[CV 4/5] END ...........C=10.0, penalty=l1, solver=newton-cg; total time=   0.0s\n",
      "[CV 5/5] END ...........C=10.0, penalty=l1, solver=newton-cg; total time=   0.0s\n",
      "[CV 1/5] END ...........C=10.0, penalty=l2, solver=liblinear; total time=   0.0s\n",
      "[CV 2/5] END ...........C=10.0, penalty=l2, solver=liblinear; total time=   0.0s\n",
      "[CV 3/5] END ...........C=10.0, penalty=l2, solver=liblinear; total time=   0.0s\n",
      "[CV 4/5] END ...........C=10.0, penalty=l2, solver=liblinear; total time=   0.0s\n",
      "[CV 5/5] END ...........C=10.0, penalty=l2, solver=liblinear; total time=   0.0s\n",
      "[CV 1/5] END ...............C=10.0, penalty=l2, solver=lbfgs; total time=   0.0s\n",
      "[CV 2/5] END ...............C=10.0, penalty=l2, solver=lbfgs; total time=   0.0s\n",
      "[CV 3/5] END ...............C=10.0, penalty=l2, solver=lbfgs; total time=   0.0s\n",
      "[CV 4/5] END ...............C=10.0, penalty=l2, solver=lbfgs; total time=   0.0s\n",
      "[CV 5/5] END ...............C=10.0, penalty=l2, solver=lbfgs; total time=   0.0s\n",
      "[CV 1/5] END .................C=10.0, penalty=l2, solver=sag; total time=   0.0s\n",
      "[CV 2/5] END .................C=10.0, penalty=l2, solver=sag; total time=   0.0s\n",
      "[CV 3/5] END .................C=10.0, penalty=l2, solver=sag; total time=   0.0s\n",
      "[CV 4/5] END .................C=10.0, penalty=l2, solver=sag; total time=   0.0s\n",
      "[CV 5/5] END .................C=10.0, penalty=l2, solver=sag; total time=   0.0s\n",
      "[CV 1/5] END ................C=10.0, penalty=l2, solver=saga; total time=   0.0s\n",
      "[CV 2/5] END ................C=10.0, penalty=l2, solver=saga; total time=   0.0s\n",
      "[CV 3/5] END ................C=10.0, penalty=l2, solver=saga; total time=   0.0s\n",
      "[CV 4/5] END ................C=10.0, penalty=l2, solver=saga; total time=   0.0s\n",
      "[CV 5/5] END ................C=10.0, penalty=l2, solver=saga; total time=   0.0s\n"
     ]
    },
    {
     "name": "stdout",
     "output_type": "stream",
     "text": [
      "[CV 1/5] END ...........C=10.0, penalty=l2, solver=newton-cg; total time=   0.0s\n",
      "[CV 2/5] END ...........C=10.0, penalty=l2, solver=newton-cg; total time=   0.0s\n",
      "[CV 3/5] END ...........C=10.0, penalty=l2, solver=newton-cg; total time=   0.0s\n",
      "[CV 4/5] END ...........C=10.0, penalty=l2, solver=newton-cg; total time=   0.1s\n",
      "[CV 5/5] END ...........C=10.0, penalty=l2, solver=newton-cg; total time=   0.0s\n",
      "[CV 1/5] END ...C=10.0, penalty=elasticnet, solver=liblinear; total time=   0.0s\n",
      "[CV 2/5] END ...C=10.0, penalty=elasticnet, solver=liblinear; total time=   0.0s\n",
      "[CV 3/5] END ...C=10.0, penalty=elasticnet, solver=liblinear; total time=   0.0s\n",
      "[CV 4/5] END ...C=10.0, penalty=elasticnet, solver=liblinear; total time=   0.0s\n",
      "[CV 5/5] END ...C=10.0, penalty=elasticnet, solver=liblinear; total time=   0.0s\n",
      "[CV 1/5] END .......C=10.0, penalty=elasticnet, solver=lbfgs; total time=   0.0s\n",
      "[CV 2/5] END .......C=10.0, penalty=elasticnet, solver=lbfgs; total time=   0.0s\n",
      "[CV 3/5] END .......C=10.0, penalty=elasticnet, solver=lbfgs; total time=   0.0s\n",
      "[CV 4/5] END .......C=10.0, penalty=elasticnet, solver=lbfgs; total time=   0.0s\n",
      "[CV 5/5] END .......C=10.0, penalty=elasticnet, solver=lbfgs; total time=   0.0s\n",
      "[CV 1/5] END .........C=10.0, penalty=elasticnet, solver=sag; total time=   0.0s\n",
      "[CV 2/5] END .........C=10.0, penalty=elasticnet, solver=sag; total time=   0.0s\n",
      "[CV 3/5] END .........C=10.0, penalty=elasticnet, solver=sag; total time=   0.0s\n",
      "[CV 4/5] END .........C=10.0, penalty=elasticnet, solver=sag; total time=   0.0s\n",
      "[CV 5/5] END .........C=10.0, penalty=elasticnet, solver=sag; total time=   0.0s\n",
      "[CV 1/5] END ........C=10.0, penalty=elasticnet, solver=saga; total time=   0.0s\n",
      "[CV 2/5] END ........C=10.0, penalty=elasticnet, solver=saga; total time=   0.0s\n",
      "[CV 3/5] END ........C=10.0, penalty=elasticnet, solver=saga; total time=   0.0s\n",
      "[CV 4/5] END ........C=10.0, penalty=elasticnet, solver=saga; total time=   0.0s\n",
      "[CV 5/5] END ........C=10.0, penalty=elasticnet, solver=saga; total time=   0.0s\n",
      "[CV 1/5] END ...C=10.0, penalty=elasticnet, solver=newton-cg; total time=   0.0s\n",
      "[CV 2/5] END ...C=10.0, penalty=elasticnet, solver=newton-cg; total time=   0.0s\n",
      "[CV 3/5] END ...C=10.0, penalty=elasticnet, solver=newton-cg; total time=   0.0s\n",
      "[CV 4/5] END ...C=10.0, penalty=elasticnet, solver=newton-cg; total time=   0.0s\n",
      "[CV 5/5] END ...C=10.0, penalty=elasticnet, solver=newton-cg; total time=   0.0s\n",
      "[CV 1/5] END ..........C=100.0, penalty=l1, solver=liblinear; total time=   0.0s\n",
      "[CV 2/5] END ..........C=100.0, penalty=l1, solver=liblinear; total time=   0.0s\n",
      "[CV 3/5] END ..........C=100.0, penalty=l1, solver=liblinear; total time=   0.0s\n",
      "[CV 4/5] END ..........C=100.0, penalty=l1, solver=liblinear; total time=   0.0s\n",
      "[CV 5/5] END ..........C=100.0, penalty=l1, solver=liblinear; total time=   0.0s\n",
      "[CV 1/5] END ..............C=100.0, penalty=l1, solver=lbfgs; total time=   0.0s\n",
      "[CV 2/5] END ..............C=100.0, penalty=l1, solver=lbfgs; total time=   0.0s\n",
      "[CV 3/5] END ..............C=100.0, penalty=l1, solver=lbfgs; total time=   0.0s\n",
      "[CV 4/5] END ..............C=100.0, penalty=l1, solver=lbfgs; total time=   0.0s\n",
      "[CV 5/5] END ..............C=100.0, penalty=l1, solver=lbfgs; total time=   0.0s\n",
      "[CV 1/5] END ................C=100.0, penalty=l1, solver=sag; total time=   0.0s\n",
      "[CV 2/5] END ................C=100.0, penalty=l1, solver=sag; total time=   0.0s\n",
      "[CV 3/5] END ................C=100.0, penalty=l1, solver=sag; total time=   0.0s\n",
      "[CV 4/5] END ................C=100.0, penalty=l1, solver=sag; total time=   0.0s\n",
      "[CV 5/5] END ................C=100.0, penalty=l1, solver=sag; total time=   0.0s\n",
      "[CV 1/5] END ...............C=100.0, penalty=l1, solver=saga; total time=   0.0s\n",
      "[CV 2/5] END ...............C=100.0, penalty=l1, solver=saga; total time=   0.0s\n",
      "[CV 3/5] END ...............C=100.0, penalty=l1, solver=saga; total time=   0.0s\n",
      "[CV 4/5] END ...............C=100.0, penalty=l1, solver=saga; total time=   0.0s\n",
      "[CV 5/5] END ...............C=100.0, penalty=l1, solver=saga; total time=   0.0s\n",
      "[CV 1/5] END ..........C=100.0, penalty=l1, solver=newton-cg; total time=   0.0s\n",
      "[CV 2/5] END ..........C=100.0, penalty=l1, solver=newton-cg; total time=   0.0s\n",
      "[CV 3/5] END ..........C=100.0, penalty=l1, solver=newton-cg; total time=   0.0s\n",
      "[CV 4/5] END ..........C=100.0, penalty=l1, solver=newton-cg; total time=   0.0s\n",
      "[CV 5/5] END ..........C=100.0, penalty=l1, solver=newton-cg; total time=   0.0s\n",
      "[CV 1/5] END ..........C=100.0, penalty=l2, solver=liblinear; total time=   0.0s\n",
      "[CV 2/5] END ..........C=100.0, penalty=l2, solver=liblinear; total time=   0.0s\n",
      "[CV 3/5] END ..........C=100.0, penalty=l2, solver=liblinear; total time=   0.0s\n",
      "[CV 4/5] END ..........C=100.0, penalty=l2, solver=liblinear; total time=   0.0s\n",
      "[CV 5/5] END ..........C=100.0, penalty=l2, solver=liblinear; total time=   0.0s\n",
      "[CV 1/5] END ..............C=100.0, penalty=l2, solver=lbfgs; total time=   0.0s\n",
      "[CV 2/5] END ..............C=100.0, penalty=l2, solver=lbfgs; total time=   0.0s\n",
      "[CV 3/5] END ..............C=100.0, penalty=l2, solver=lbfgs; total time=   0.0s\n",
      "[CV 4/5] END ..............C=100.0, penalty=l2, solver=lbfgs; total time=   0.0s\n",
      "[CV 5/5] END ..............C=100.0, penalty=l2, solver=lbfgs; total time=   0.0s\n",
      "[CV 1/5] END ................C=100.0, penalty=l2, solver=sag; total time=   0.0s\n",
      "[CV 2/5] END ................C=100.0, penalty=l2, solver=sag; total time=   0.0s\n",
      "[CV 3/5] END ................C=100.0, penalty=l2, solver=sag; total time=   0.0s\n",
      "[CV 4/5] END ................C=100.0, penalty=l2, solver=sag; total time=   0.0s\n",
      "[CV 5/5] END ................C=100.0, penalty=l2, solver=sag; total time=   0.0s\n",
      "[CV 1/5] END ...............C=100.0, penalty=l2, solver=saga; total time=   0.0s\n",
      "[CV 2/5] END ...............C=100.0, penalty=l2, solver=saga; total time=   0.0s\n",
      "[CV 3/5] END ...............C=100.0, penalty=l2, solver=saga; total time=   0.0s\n",
      "[CV 4/5] END ...............C=100.0, penalty=l2, solver=saga; total time=   0.0s\n",
      "[CV 5/5] END ...............C=100.0, penalty=l2, solver=saga; total time=   0.0s\n",
      "[CV 1/5] END ..........C=100.0, penalty=l2, solver=newton-cg; total time=   0.3s\n",
      "[CV 2/5] END ..........C=100.0, penalty=l2, solver=newton-cg; total time=   0.1s\n",
      "[CV 3/5] END ..........C=100.0, penalty=l2, solver=newton-cg; total time=   0.2s\n",
      "[CV 4/5] END ..........C=100.0, penalty=l2, solver=newton-cg; total time=   0.1s\n",
      "[CV 5/5] END ..........C=100.0, penalty=l2, solver=newton-cg; total time=   0.2s\n",
      "[CV 1/5] END ..C=100.0, penalty=elasticnet, solver=liblinear; total time=   0.0s\n",
      "[CV 2/5] END ..C=100.0, penalty=elasticnet, solver=liblinear; total time=   0.0s\n",
      "[CV 3/5] END ..C=100.0, penalty=elasticnet, solver=liblinear; total time=   0.0s\n",
      "[CV 4/5] END ..C=100.0, penalty=elasticnet, solver=liblinear; total time=   0.0s\n",
      "[CV 5/5] END ..C=100.0, penalty=elasticnet, solver=liblinear; total time=   0.0s\n",
      "[CV 1/5] END ......C=100.0, penalty=elasticnet, solver=lbfgs; total time=   0.0s\n",
      "[CV 2/5] END ......C=100.0, penalty=elasticnet, solver=lbfgs; total time=   0.0s\n",
      "[CV 3/5] END ......C=100.0, penalty=elasticnet, solver=lbfgs; total time=   0.0s\n",
      "[CV 4/5] END ......C=100.0, penalty=elasticnet, solver=lbfgs; total time=   0.0s\n",
      "[CV 5/5] END ......C=100.0, penalty=elasticnet, solver=lbfgs; total time=   0.0s\n",
      "[CV 1/5] END ........C=100.0, penalty=elasticnet, solver=sag; total time=   0.0s\n",
      "[CV 2/5] END ........C=100.0, penalty=elasticnet, solver=sag; total time=   0.0s\n",
      "[CV 3/5] END ........C=100.0, penalty=elasticnet, solver=sag; total time=   0.0s\n",
      "[CV 4/5] END ........C=100.0, penalty=elasticnet, solver=sag; total time=   0.0s\n",
      "[CV 5/5] END ........C=100.0, penalty=elasticnet, solver=sag; total time=   0.0s\n",
      "[CV 1/5] END .......C=100.0, penalty=elasticnet, solver=saga; total time=   0.0s\n",
      "[CV 2/5] END .......C=100.0, penalty=elasticnet, solver=saga; total time=   0.0s\n",
      "[CV 3/5] END .......C=100.0, penalty=elasticnet, solver=saga; total time=   0.0s\n",
      "[CV 4/5] END .......C=100.0, penalty=elasticnet, solver=saga; total time=   0.0s\n",
      "[CV 5/5] END .......C=100.0, penalty=elasticnet, solver=saga; total time=   0.0s\n",
      "[CV 1/5] END ..C=100.0, penalty=elasticnet, solver=newton-cg; total time=   0.0s\n",
      "[CV 2/5] END ..C=100.0, penalty=elasticnet, solver=newton-cg; total time=   0.0s\n",
      "[CV 3/5] END ..C=100.0, penalty=elasticnet, solver=newton-cg; total time=   0.0s\n",
      "[CV 4/5] END ..C=100.0, penalty=elasticnet, solver=newton-cg; total time=   0.0s\n",
      "[CV 5/5] END ..C=100.0, penalty=elasticnet, solver=newton-cg; total time=   0.0s\n",
      "[CV 1/5] END .........C=1000.0, penalty=l1, solver=liblinear; total time=   0.0s\n",
      "[CV 2/5] END .........C=1000.0, penalty=l1, solver=liblinear; total time=   0.0s\n",
      "[CV 3/5] END .........C=1000.0, penalty=l1, solver=liblinear; total time=   0.0s\n",
      "[CV 4/5] END .........C=1000.0, penalty=l1, solver=liblinear; total time=   0.0s\n",
      "[CV 5/5] END .........C=1000.0, penalty=l1, solver=liblinear; total time=   0.0s\n",
      "[CV 1/5] END .............C=1000.0, penalty=l1, solver=lbfgs; total time=   0.0s\n",
      "[CV 2/5] END .............C=1000.0, penalty=l1, solver=lbfgs; total time=   0.0s\n",
      "[CV 3/5] END .............C=1000.0, penalty=l1, solver=lbfgs; total time=   0.0s\n",
      "[CV 4/5] END .............C=1000.0, penalty=l1, solver=lbfgs; total time=   0.0s\n",
      "[CV 5/5] END .............C=1000.0, penalty=l1, solver=lbfgs; total time=   0.0s\n",
      "[CV 1/5] END ...............C=1000.0, penalty=l1, solver=sag; total time=   0.0s\n",
      "[CV 2/5] END ...............C=1000.0, penalty=l1, solver=sag; total time=   0.0s\n",
      "[CV 3/5] END ...............C=1000.0, penalty=l1, solver=sag; total time=   0.0s\n",
      "[CV 4/5] END ...............C=1000.0, penalty=l1, solver=sag; total time=   0.0s\n",
      "[CV 5/5] END ...............C=1000.0, penalty=l1, solver=sag; total time=   0.0s\n"
     ]
    },
    {
     "name": "stdout",
     "output_type": "stream",
     "text": [
      "[CV 1/5] END ..............C=1000.0, penalty=l1, solver=saga; total time=   0.0s\n",
      "[CV 2/5] END ..............C=1000.0, penalty=l1, solver=saga; total time=   0.0s\n",
      "[CV 3/5] END ..............C=1000.0, penalty=l1, solver=saga; total time=   0.0s\n",
      "[CV 4/5] END ..............C=1000.0, penalty=l1, solver=saga; total time=   0.0s\n",
      "[CV 5/5] END ..............C=1000.0, penalty=l1, solver=saga; total time=   0.0s\n",
      "[CV 1/5] END .........C=1000.0, penalty=l1, solver=newton-cg; total time=   0.0s\n",
      "[CV 2/5] END .........C=1000.0, penalty=l1, solver=newton-cg; total time=   0.0s\n",
      "[CV 3/5] END .........C=1000.0, penalty=l1, solver=newton-cg; total time=   0.0s\n",
      "[CV 4/5] END .........C=1000.0, penalty=l1, solver=newton-cg; total time=   0.0s\n",
      "[CV 5/5] END .........C=1000.0, penalty=l1, solver=newton-cg; total time=   0.0s\n",
      "[CV 1/5] END .........C=1000.0, penalty=l2, solver=liblinear; total time=   0.0s\n",
      "[CV 2/5] END .........C=1000.0, penalty=l2, solver=liblinear; total time=   0.0s\n",
      "[CV 3/5] END .........C=1000.0, penalty=l2, solver=liblinear; total time=   0.0s\n",
      "[CV 4/5] END .........C=1000.0, penalty=l2, solver=liblinear; total time=   0.0s\n",
      "[CV 5/5] END .........C=1000.0, penalty=l2, solver=liblinear; total time=   0.0s\n",
      "[CV 1/5] END .............C=1000.0, penalty=l2, solver=lbfgs; total time=   0.0s\n",
      "[CV 2/5] END .............C=1000.0, penalty=l2, solver=lbfgs; total time=   0.0s\n",
      "[CV 3/5] END .............C=1000.0, penalty=l2, solver=lbfgs; total time=   0.0s\n",
      "[CV 4/5] END .............C=1000.0, penalty=l2, solver=lbfgs; total time=   0.0s\n",
      "[CV 5/5] END .............C=1000.0, penalty=l2, solver=lbfgs; total time=   0.0s\n",
      "[CV 1/5] END ...............C=1000.0, penalty=l2, solver=sag; total time=   0.0s\n",
      "[CV 2/5] END ...............C=1000.0, penalty=l2, solver=sag; total time=   0.0s\n",
      "[CV 3/5] END ...............C=1000.0, penalty=l2, solver=sag; total time=   0.0s\n",
      "[CV 4/5] END ...............C=1000.0, penalty=l2, solver=sag; total time=   0.0s\n",
      "[CV 5/5] END ...............C=1000.0, penalty=l2, solver=sag; total time=   0.0s\n",
      "[CV 1/5] END ..............C=1000.0, penalty=l2, solver=saga; total time=   0.0s\n",
      "[CV 2/5] END ..............C=1000.0, penalty=l2, solver=saga; total time=   0.0s\n",
      "[CV 3/5] END ..............C=1000.0, penalty=l2, solver=saga; total time=   0.0s\n",
      "[CV 4/5] END ..............C=1000.0, penalty=l2, solver=saga; total time=   0.0s\n",
      "[CV 5/5] END ..............C=1000.0, penalty=l2, solver=saga; total time=   0.0s\n",
      "[CV 1/5] END .........C=1000.0, penalty=l2, solver=newton-cg; total time=   0.1s\n",
      "[CV 2/5] END .........C=1000.0, penalty=l2, solver=newton-cg; total time=   0.1s\n",
      "[CV 3/5] END .........C=1000.0, penalty=l2, solver=newton-cg; total time=   0.2s\n",
      "[CV 4/5] END .........C=1000.0, penalty=l2, solver=newton-cg; total time=   0.1s\n",
      "[CV 5/5] END .........C=1000.0, penalty=l2, solver=newton-cg; total time=   0.1s\n",
      "[CV 1/5] END .C=1000.0, penalty=elasticnet, solver=liblinear; total time=   0.0s\n",
      "[CV 2/5] END .C=1000.0, penalty=elasticnet, solver=liblinear; total time=   0.0s\n",
      "[CV 3/5] END .C=1000.0, penalty=elasticnet, solver=liblinear; total time=   0.0s\n",
      "[CV 4/5] END .C=1000.0, penalty=elasticnet, solver=liblinear; total time=   0.0s\n",
      "[CV 5/5] END .C=1000.0, penalty=elasticnet, solver=liblinear; total time=   0.0s\n",
      "[CV 1/5] END .....C=1000.0, penalty=elasticnet, solver=lbfgs; total time=   0.0s\n",
      "[CV 2/5] END .....C=1000.0, penalty=elasticnet, solver=lbfgs; total time=   0.0s\n",
      "[CV 3/5] END .....C=1000.0, penalty=elasticnet, solver=lbfgs; total time=   0.0s\n",
      "[CV 4/5] END .....C=1000.0, penalty=elasticnet, solver=lbfgs; total time=   0.0s\n",
      "[CV 5/5] END .....C=1000.0, penalty=elasticnet, solver=lbfgs; total time=   0.0s\n",
      "[CV 1/5] END .......C=1000.0, penalty=elasticnet, solver=sag; total time=   0.0s\n",
      "[CV 2/5] END .......C=1000.0, penalty=elasticnet, solver=sag; total time=   0.0s\n",
      "[CV 3/5] END .......C=1000.0, penalty=elasticnet, solver=sag; total time=   0.0s\n",
      "[CV 4/5] END .......C=1000.0, penalty=elasticnet, solver=sag; total time=   0.0s\n",
      "[CV 5/5] END .......C=1000.0, penalty=elasticnet, solver=sag; total time=   0.0s\n",
      "[CV 1/5] END ......C=1000.0, penalty=elasticnet, solver=saga; total time=   0.0s\n",
      "[CV 2/5] END ......C=1000.0, penalty=elasticnet, solver=saga; total time=   0.0s\n",
      "[CV 3/5] END ......C=1000.0, penalty=elasticnet, solver=saga; total time=   0.0s\n",
      "[CV 4/5] END ......C=1000.0, penalty=elasticnet, solver=saga; total time=   0.0s\n",
      "[CV 5/5] END ......C=1000.0, penalty=elasticnet, solver=saga; total time=   0.0s\n",
      "[CV 1/5] END .C=1000.0, penalty=elasticnet, solver=newton-cg; total time=   0.0s\n",
      "[CV 2/5] END .C=1000.0, penalty=elasticnet, solver=newton-cg; total time=   0.0s\n",
      "[CV 3/5] END .C=1000.0, penalty=elasticnet, solver=newton-cg; total time=   0.0s\n",
      "[CV 4/5] END .C=1000.0, penalty=elasticnet, solver=newton-cg; total time=   0.0s\n",
      "[CV 5/5] END .C=1000.0, penalty=elasticnet, solver=newton-cg; total time=   0.0s\n"
     ]
    },
    {
     "data": {
      "text/plain": [
       "GridSearchCV(estimator=LogisticRegression(),\n",
       "             param_grid={'C': array([1.e-03, 1.e-02, 1.e-01, 1.e+00, 1.e+01, 1.e+02, 1.e+03]),\n",
       "                         'penalty': ['l1', 'l2', 'elasticnet'],\n",
       "                         'solver': ['liblinear', 'lbfgs', 'sag', 'saga',\n",
       "                                    'newton-cg']},\n",
       "             verbose=3)"
      ]
     },
     "execution_count": 58,
     "metadata": {},
     "output_type": "execute_result"
    }
   ],
   "source": [
    "grid=GridSearchCV(logreg,params,verbose=3)\n",
    "grid.fit(xtrain,ytrain)"
   ]
  },
  {
   "cell_type": "code",
   "execution_count": 59,
   "id": "4ff61826",
   "metadata": {},
   "outputs": [
    {
     "data": {
      "text/plain": [
       "{'C': 0.1, 'penalty': 'l2', 'solver': 'newton-cg'}"
      ]
     },
     "execution_count": 59,
     "metadata": {},
     "output_type": "execute_result"
    }
   ],
   "source": [
    "grid.best_params_"
   ]
  },
  {
   "cell_type": "code",
   "execution_count": 60,
   "id": "443dd7a2",
   "metadata": {},
   "outputs": [
    {
     "data": {
      "text/plain": [
       "0.84375"
      ]
     },
     "execution_count": 60,
     "metadata": {},
     "output_type": "execute_result"
    }
   ],
   "source": [
    "grid.best_score_"
   ]
  },
  {
   "cell_type": "code",
   "execution_count": 61,
   "id": "0a1cfebe",
   "metadata": {},
   "outputs": [
    {
     "data": {
      "text/plain": [
       "LogisticRegression(C=0.1, solver='newton-cg')"
      ]
     },
     "execution_count": 61,
     "metadata": {},
     "output_type": "execute_result"
    }
   ],
   "source": [
    "grid.best_estimator_"
   ]
  },
  {
   "cell_type": "code",
   "execution_count": 62,
   "id": "be7e1cd3",
   "metadata": {},
   "outputs": [],
   "source": [
    "logreg=grid.best_estimator_\n",
    "logreg.fit(xtrain,ytrain)\n",
    "ypred=logreg.predict(xtest)"
   ]
  },
  {
   "cell_type": "code",
   "execution_count": 63,
   "id": "5549e4ca",
   "metadata": {},
   "outputs": [
    {
     "name": "stdout",
     "output_type": "stream",
     "text": [
      "              precision    recall  f1-score   support\n",
      "\n",
      "           0       0.87      0.83      0.85        48\n",
      "           1       0.76      0.81      0.79        32\n",
      "\n",
      "    accuracy                           0.82        80\n",
      "   macro avg       0.82      0.82      0.82        80\n",
      "weighted avg       0.83      0.82      0.83        80\n",
      "\n"
     ]
    }
   ],
   "source": [
    "print(classification_report(ytest,ypred))"
   ]
  },
  {
   "cell_type": "code",
   "execution_count": 64,
   "id": "8f26bda8",
   "metadata": {},
   "outputs": [
    {
     "data": {
      "text/plain": [
       "0.825"
      ]
     },
     "execution_count": 64,
     "metadata": {},
     "output_type": "execute_result"
    }
   ],
   "source": [
    "accuracy_score(ytest,ypred)"
   ]
  },
  {
   "cell_type": "code",
   "execution_count": 65,
   "id": "6529731b",
   "metadata": {},
   "outputs": [
    {
     "data": {
      "text/plain": [
       "array([[40,  8],\n",
       "       [ 6, 26]], dtype=int64)"
      ]
     },
     "execution_count": 65,
     "metadata": {},
     "output_type": "execute_result"
    }
   ],
   "source": [
    "confusion_matrix(ytest,ypred)"
   ]
  },
  {
   "cell_type": "markdown",
   "id": "4ebec699",
   "metadata": {},
   "source": [
    "#### Cross Validation Score"
   ]
  },
  {
   "cell_type": "code",
   "execution_count": 66,
   "id": "8190233b",
   "metadata": {},
   "outputs": [
    {
     "name": "stdout",
     "output_type": "stream",
     "text": [
      "CVS: [0.7    0.9625 0.925  0.8125 0.75  ]\n",
      "CVS Mean: 0.8300000000000001\n",
      "CVS Standard Deviation: 0.10018732454756941\n"
     ]
    }
   ],
   "source": [
    "from sklearn.model_selection import cross_val_score\n",
    "cvs=cross_val_score(logreg,x,y,cv=5,scoring=\"accuracy\")\n",
    "print(f\"CVS: {cvs}\")\n",
    "print(f\"CVS Mean: {cvs.mean()}\")\n",
    "print(f\"CVS Standard Deviation: {cvs.std()}\")"
   ]
  },
  {
   "cell_type": "markdown",
   "id": "c01d774b",
   "metadata": {},
   "source": [
    "#### Bagging"
   ]
  },
  {
   "cell_type": "code",
   "execution_count": 67,
   "id": "ec878aea",
   "metadata": {},
   "outputs": [
    {
     "name": "stdout",
     "output_type": "stream",
     "text": [
      "              precision    recall  f1-score   support\n",
      "\n",
      "           0       0.87      0.83      0.85        48\n",
      "           1       0.76      0.81      0.79        32\n",
      "\n",
      "    accuracy                           0.82        80\n",
      "   macro avg       0.82      0.82      0.82        80\n",
      "weighted avg       0.83      0.82      0.83        80\n",
      "\n"
     ]
    }
   ],
   "source": [
    "from sklearn.ensemble import BaggingClassifier\n",
    "bg=BaggingClassifier(logreg)\n",
    "bg.fit(xtrain,ytrain)\n",
    "ypred=bg.predict(xtest)\n",
    "print(classification_report(ytest,ypred))"
   ]
  },
  {
   "cell_type": "markdown",
   "id": "e725e984",
   "metadata": {},
   "source": [
    "# Naive Bayes"
   ]
  },
  {
   "cell_type": "code",
   "execution_count": 68,
   "id": "13361ce8",
   "metadata": {},
   "outputs": [],
   "source": [
    "from sklearn.naive_bayes import GaussianNB\n",
    "nb=GaussianNB()\n",
    "nb.fit(xtrain,ytrain)\n",
    "ypred=nb.predict(xtest)"
   ]
  },
  {
   "cell_type": "code",
   "execution_count": 69,
   "id": "965f3087",
   "metadata": {},
   "outputs": [
    {
     "name": "stdout",
     "output_type": "stream",
     "text": [
      "              precision    recall  f1-score   support\n",
      "\n",
      "           0       0.91      0.85      0.88        48\n",
      "           1       0.80      0.88      0.84        32\n",
      "\n",
      "    accuracy                           0.86        80\n",
      "   macro avg       0.86      0.86      0.86        80\n",
      "weighted avg       0.87      0.86      0.86        80\n",
      "\n"
     ]
    }
   ],
   "source": [
    "print(classification_report(ytest,ypred))"
   ]
  },
  {
   "cell_type": "code",
   "execution_count": 70,
   "id": "335bbf97",
   "metadata": {},
   "outputs": [
    {
     "data": {
      "text/plain": [
       "0.8625"
      ]
     },
     "execution_count": 70,
     "metadata": {},
     "output_type": "execute_result"
    }
   ],
   "source": [
    "accuracy_score(ytest,ypred)"
   ]
  },
  {
   "cell_type": "code",
   "execution_count": 71,
   "id": "79609fef",
   "metadata": {},
   "outputs": [
    {
     "data": {
      "text/plain": [
       "array([[41,  7],\n",
       "       [ 4, 28]], dtype=int64)"
      ]
     },
     "execution_count": 71,
     "metadata": {},
     "output_type": "execute_result"
    }
   ],
   "source": [
    "confusion_matrix(ytest,ypred)"
   ]
  },
  {
   "cell_type": "markdown",
   "id": "b0076891",
   "metadata": {},
   "source": [
    "#### Cross Validation Score"
   ]
  },
  {
   "cell_type": "code",
   "execution_count": 72,
   "id": "8cf0dec8",
   "metadata": {},
   "outputs": [
    {
     "name": "stdout",
     "output_type": "stream",
     "text": [
      "CVS: [0.8125 0.9625 0.925  0.8125 0.9   ]\n",
      "CVS Mean: 0.8825000000000001\n",
      "CVS Standard Deviation: 0.06051859218455103\n"
     ]
    }
   ],
   "source": [
    "from sklearn.model_selection import cross_val_score\n",
    "cvs=cross_val_score(nb,x,y,cv=5,scoring=\"accuracy\")\n",
    "print(f\"CVS: {cvs}\")\n",
    "print(f\"CVS Mean: {cvs.mean()}\")\n",
    "print(f\"CVS Standard Deviation: {cvs.std()}\")"
   ]
  },
  {
   "cell_type": "markdown",
   "id": "23210181",
   "metadata": {},
   "source": [
    "#### Bagging"
   ]
  },
  {
   "cell_type": "code",
   "execution_count": 73,
   "id": "a6eefd3a",
   "metadata": {},
   "outputs": [],
   "source": [
    "from sklearn.ensemble import BaggingClassifier\n",
    "bg=BaggingClassifier(nb)\n",
    "bg.fit(xtrain,ytrain)\n",
    "ypred=bg.predict(xtest)"
   ]
  },
  {
   "cell_type": "code",
   "execution_count": 74,
   "id": "7f6a1cf0",
   "metadata": {},
   "outputs": [
    {
     "name": "stdout",
     "output_type": "stream",
     "text": [
      "              precision    recall  f1-score   support\n",
      "\n",
      "           0       0.91      0.85      0.88        48\n",
      "           1       0.80      0.88      0.84        32\n",
      "\n",
      "    accuracy                           0.86        80\n",
      "   macro avg       0.86      0.86      0.86        80\n",
      "weighted avg       0.87      0.86      0.86        80\n",
      "\n"
     ]
    }
   ],
   "source": [
    "print(classification_report(ytest,ypred))"
   ]
  },
  {
   "cell_type": "code",
   "execution_count": 75,
   "id": "6eee957c",
   "metadata": {},
   "outputs": [
    {
     "data": {
      "text/plain": [
       "0.8625"
      ]
     },
     "execution_count": 75,
     "metadata": {},
     "output_type": "execute_result"
    }
   ],
   "source": [
    "accuracy_score(ytest,ypred)"
   ]
  },
  {
   "cell_type": "markdown",
   "id": "bf55b618",
   "metadata": {},
   "source": [
    "## Decision Tree"
   ]
  },
  {
   "cell_type": "code",
   "execution_count": null,
   "id": "fbff9cf7",
   "metadata": {},
   "outputs": [],
   "source": [
    "C"
   ]
  }
 ],
 "metadata": {
  "kernelspec": {
   "display_name": "Python 3",
   "language": "python",
   "name": "python3"
  },
  "language_info": {
   "codemirror_mode": {
    "name": "ipython",
    "version": 3
   },
   "file_extension": ".py",
   "mimetype": "text/x-python",
   "name": "python",
   "nbconvert_exporter": "python",
   "pygments_lexer": "ipython3",
   "version": "3.8.8"
  }
 },
 "nbformat": 4,
 "nbformat_minor": 5
}
